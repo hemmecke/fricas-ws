{
 "cells": [
  {
   "cell_type": "markdown",
   "metadata": {},
   "source": [
    ")clear completely"
   ]
  },
  {
   "cell_type": "code",
   "execution_count": 1,
   "metadata": {},
   "outputs": [
    {
     "name": "stdout",
     "output_type": "stream",
     "text": []
    },
    {
     "data": {},
     "metadata": {},
     "output_type": "display_data"
    }
   ],
   "source": [
    ")cd /home/hemmecke/g/qeta/tmp\n",
    ")set mess type off\n",
    ")r qetalibs\n",
    ")r etamacros.input )quiet"
   ]
  },
  {
   "cell_type": "markdown",
   "metadata": {},
   "source": [
    "# Problem formulation"
   ]
  },
  {
   "cell_type": "markdown",
   "metadata": {},
   "source": [
    "Let $p(n)$ denote the number of partitions of the natural number $n$. Show that for every natural number $k$ the expression $p(11k+6)$ is divisible by 11."
   ]
  },
  {
   "cell_type": "markdown",
   "metadata": {},
   "source": [
    "The solution is described in the article (http://www.sciencedirect.com/science/article/pii/S0747717117300147):\n",
    "\n",
    "    @Article{Hemmecke:DancingSambaRamanujan:2018,\n",
    "      author =       {Ralf Hemmecke},\n",
    "      title =        {Dancing Samba with {R}amanujan Partition\n",
    "                      Congruences},\n",
    "      journal =      {Journal of Symbolic Computation,\n",
    "      year =         2018,\n",
    "      JournalUrl =   {http://www.sciencedirect.com/science/journal/07477171},\n",
    "      URL =          {http://www.sciencedirect.com/science/article/pii/S0747717117300147},\n",
    "      DOI =          {10.1016/j.jsc.2017.02.001},\n",
    "      volume =       {84},\n",
    "      pages =        {14--24},\n",
    "      ISSN =         {0747-7171},\n",
    "      keywords =     {Partition identities, Number theoretic algorithm,\n",
    "                      Subalgebra basis},\n",
    "      abstract =     {The article presents an algorithm to compute a\n",
    "                      $C[t]$-module basis $G$ for a given subalgebra $A$\n",
    "                      over a polynomial ring $R=C[x]$ with a Euclidean\n",
    "                      domain $C$ as the domain of coefficients and $t$ a\n",
    "                      given element of $A$. The reduction modulo $G$\n",
    "                      allows a subalgebra membership test. The algorithm\n",
    "                      also works for more general rings $R$, in particular\n",
    "                      for a ring $R\\subset C((q))$ with the property that\n",
    "                      $f\\in R$ is zero if and only if the order of $f$ is\n",
    "                      positive. As an application, we algorithmically\n",
    "                      derive an explicit identity (in terms of quotients\n",
    "                      of Dedekind $\\eta$-functions and Klein's\n",
    "                      $j$-invariant) that shows that $p(11n+6)$ is\n",
    "                      divisible by 11 for every natural number $n$ where\n",
    "                      $p(n)$ denotes the number of partitions of $n$.}\n",
    "     }\n",
    "\n",
    "in particlular, what we here call `algebraBasis` corresponds to the `samba` algorithm\n",
    "from the article.\n",
    "\n",
    "The article is also available as <a href=\"http://www.risc.jku.at/publications/download/risc_5338/DancingSambaRamanujan.pdf\">RISC report 16-06</a>."
   ]
  },
  {
   "cell_type": "markdown",
   "metadata": {},
   "source": [
    "## Explanation of the session"
   ]
  },
  {
   "cell_type": "markdown",
   "metadata": {},
   "source": [
    "Let X be an algebra that can be used in with the algorithm `samba`, but which has a polynomial attached to record the operations that have been done with the original element. This somehow simulates a similar idea as attaching a unit matrix to a matrix and then computing the row echelon form of the matrix. The unit matrix turns into the transformation matrix.\n",
    "\n",
    "Since we want to show divisibility by 11 of $p(11k+6)$ for every $k$ where $p$ is the partition function, the main computation is done with a coefficient ring $C=\\mathbb{Z}_{(11)}$ being integers localized at 11, i.e. rational numbers that have no denominator divisible by 11."
   ]
  },
  {
   "cell_type": "code",
   "execution_count": 2,
   "metadata": {},
   "outputs": [
    {
     "name": "stdout",
     "output_type": "stream",
     "text": []
    },
    {
     "data": {},
     "metadata": {},
     "output_type": "display_data"
    }
   ],
   "source": [
    "C ==> IntegerLocalizedAtPrime 11\n",
    "X ==> QEtaExtendedAlgebra(C, L, Pol);\n",
    "xembed(a,b)==>embed(a,b)\n",
    "et ==> eta$ETAZ -- et(n) encodes \\eta(n \\tau) as a powerseries in q=2i\\pi\\tau."
   ]
  },
  {
   "cell_type": "markdown",
   "metadata": {},
   "source": [
    "The following function simply maps the integer coefficients of the series into the localized coefficient domain or into the rational number domain Q."
   ]
  },
  {
   "cell_type": "code",
   "execution_count": 3,
   "metadata": {},
   "outputs": [
    {
     "name": "stdout",
     "output_type": "stream",
     "text": []
    },
    {
     "data": {},
     "metadata": {},
     "output_type": "display_data"
    }
   ],
   "source": [
    "abmap(A, B, x) ==> map((c: A): B +-> c::B, x)$Finite0SeriesFunctions2(A, B, 'q, 'q, 0, 0)\n",
    "zcmap(x) ==> abmap(Z, C, x)\n",
    "cqmap(x) ==> abmap(C, Q, x)\n",
    "zqmap(x) ==> abmap(Z, Q, x)"
   ]
  },
  {
   "cell_type": "markdown",
   "metadata": {},
   "source": [
    "# Relations in terms of the $M_i$'s"
   ]
  },
  {
   "cell_type": "code",
   "execution_count": 4,
   "metadata": {},
   "outputs": [
    {
     "name": "stdout",
     "output_type": "stream",
     "text": [
      "   [5, 5, 6, 5, 7, 8, 9]\n"
     ]
    },
    {
     "data": {},
     "metadata": {},
     "output_type": "display_data"
    }
   ],
   "source": [
    "level := 22;\n",
    "rgens := xetaQuotientMonoidExponentVectors level;\n",
    "divs := divisors(level)$IntegerNumberTheoryFunctions;\n",
    "etaquotgensZ: List EtaQuotient(Z, LZ) := [etaQuotient(divs, r) for r in rgens];\n",
    "for x in etaquotgensZ repeat if not zero? prefactor x then error \"nonzero prefactor\";\n",
    "eqgensZ: List LZ := [retract x for x in etaquotgensZ];\n",
    "eqgens: List L := [zcmap x for x in eqgensZ];\n",
    "[qetaGrade x for x in eqgens]"
   ]
  },
  {
   "cell_type": "markdown",
   "metadata": {},
   "source": [
    "The generators of the $\\eta$-quotients of level 22 are given by these exponents for the $\\eta$ functions (with arguments being the divisors of 22).\n",
    "The variable `rgens` corresponds to the generators of $R^\\infty(22)$."
   ]
  },
  {
   "cell_type": "code",
   "execution_count": 5,
   "metadata": {},
   "outputs": [
    {
     "name": "stdout",
     "output_type": "stream",
     "text": [
      "   [[7, - 3, 3, - 7], [- 4, 8, 4, - 8], [- 2, 6, 6, - 10], [- 1, 1, 11, - 11],\n",
      "    [0, 4, 8, - 12], [2, 2, 10, - 14], [4, 0, 12, - 16]]\n"
     ]
    },
    {
     "data": {},
     "metadata": {},
     "output_type": "display_data"
    }
   ],
   "source": [
    "rgens"
   ]
  },
  {
   "cell_type": "code",
   "execution_count": 6,
   "metadata": {},
   "outputs": [
    {
     "name": "stdout",
     "output_type": "stream",
     "text": [
      "   [M1, M2, M3, M4, M5, M6, M7]\n"
     ]
    },
    {
     "data": {},
     "metadata": {},
     "output_type": "display_data"
    }
   ],
   "source": [
    "msyms := indexedSymbols(\"M\", #eqgens)"
   ]
  },
  {
   "cell_type": "code",
   "execution_count": 7,
   "metadata": {
    "scrolled": true
   },
   "outputs": [
    {
     "name": "stdout",
     "output_type": "stream",
     "text": [
      "      - 5      - 4       - 3       - 2      - 1           1\n",
      "   [[q    - 7 q    + 17 q    - 14 q    + 2 q    - 21 + O(q ), M1],\n",
      "      - 5      - 4      - 3      - 2       - 1           1\n",
      "    [q    + 4 q    + 6 q    + 8 q    + 13 q    + 12 + O(q ), M2],\n",
      "      - 6      - 5    - 4      - 3    - 2      - 1      0\n",
      "    [q    + 2 q    - q    - 2 q    - q    - 6 q    + O(q ), M3],\n",
      "      - 5    - 4    - 3      - 2      - 1          1\n",
      "    [q    + q    + q    + 2 q    + 2 q    + 3 + O(q ), M4],\n",
      "      - 7      - 5      - 3      - 1\n",
      "    [q    - 4 q    + 2 q    + O(q   ), M5],\n",
      "      - 8      - 7      - 6      - 5      - 4      - 2\n",
      "    [q    - 2 q    - 3 q    + 6 q    + 2 q    + O(q   ), M6],\n",
      "      - 9      - 8      - 7      - 6      - 5      - 4      - 3\n",
      "    [q    - 4 q    + 2 q    + 8 q    - 5 q    - 4 q    + O(q   ), M7]]\n"
     ]
    },
    {
     "data": {},
     "metadata": {},
     "output_type": "display_data"
    }
   ],
   "source": [
    "xeqgens: List X := [xembed(x, s) for x in eqgens for s in msyms]"
   ]
  },
  {
   "cell_type": "markdown",
   "metadata": {},
   "source": [
    "We take a minimal (in terms the order in q) element from the generators and make it special.\n",
    "Then we compute an algebra basis for $C[M_1,\\ldots,M_7]$."
   ]
  },
  {
   "cell_type": "code",
   "execution_count": 8,
   "metadata": {},
   "outputs": [
    {
     "name": "stdout",
     "output_type": "stream",
     "text": [
      "     - 5      - 4       - 3       - 2      - 1           1\n",
      "   [q    - 7 q    + 17 q    - 14 q    + 2 q    - 21 + O(q ), M1]\n"
     ]
    },
    {
     "data": {},
     "metadata": {},
     "output_type": "display_data"
    }
   ],
   "source": [
    "tex: X := xeqgens.1"
   ]
  },
  {
   "cell_type": "code",
   "execution_count": 9,
   "metadata": {
    "scrolled": true
   },
   "outputs": [
    {
     "name": "stdout",
     "output_type": "stream",
     "text": [
      "   [\n",
      "          - 3       - 1     2    1                   2      3\n",
      "     [11 q    + 11 q    + 11 (- --) + 11 2 q + 11 2 q  + O(q ),\n",
      "                                32\n",
      "\n",
      "          1        5        21           1           213       85        1    2\n",
      "         --- M7 - --- M6 + --- M5 + (- ---- M1 + 11 ----)M4 - --- M3 + ---- M1\n",
      "         128      128      128         1024         1024      128      1024\n",
      "       + \n",
      "          505\n",
      "         ---- M1\n",
      "         1024\n",
      "       ]\n",
      "     ,\n",
      "      - 4      - 3      - 2                2   1      1\n",
      "    [q    - 2 q    + 2 q    + 3 - 4 q + O(q ), - M4 - - M1],\n",
      "                                               8      8\n",
      "      - 6      - 5    - 4      - 3    - 2      - 1      0\n",
      "    [q    + 2 q    - q    - 2 q    - q    - 6 q    + O(q ), M3],\n",
      "      - 7      - 5      - 3      - 1\n",
      "    [q    - 4 q    + 2 q    + O(q   ), M5],\n",
      "      - 8      - 7      - 6      - 5      - 4      - 2\n",
      "    [q    - 2 q    - 3 q    + 6 q    + 2 q    + O(q   ), M6]]\n"
     ]
    },
    {
     "data": {},
     "metadata": {},
     "output_type": "display_data"
    }
   ],
   "source": [
    "abex := algebraBasis(tex, xeqgens)$QEtaAlgebraBasis(C, X, QEtaExtendedComputation(C, L, X))"
   ]
  },
  {
   "cell_type": "code",
   "execution_count": 10,
   "metadata": {},
   "outputs": [
    {
     "name": "stdout",
     "output_type": "stream",
     "text": [
      "   5\n"
     ]
    },
    {
     "data": {},
     "metadata": {},
     "output_type": "display_data"
    }
   ],
   "source": [
    "#abex"
   ]
  },
  {
   "cell_type": "code",
   "execution_count": 11,
   "metadata": {},
   "outputs": [
    {
     "name": "stdout",
     "output_type": "stream",
     "text": [
      "   [\n",
      "        1        5        21           1           213       85        1    2\n",
      "       --- M7 - --- M6 + --- M5 + (- ---- M1 + 11 ----)M4 - --- M3 + ---- M1\n",
      "       128      128      128         1024         1024      128      1024\n",
      "     + \n",
      "        505\n",
      "       ---- M1\n",
      "       1024\n",
      "     ,\n",
      "    1      1\n",
      "    - M4 - - M1, M3, M5, M6]\n",
      "    8      8\n"
     ]
    },
    {
     "data": {},
     "metadata": {},
     "output_type": "display_data"
    }
   ],
   "source": [
    "[second x for x in abex]"
   ]
  },
  {
   "cell_type": "markdown",
   "metadata": {},
   "source": [
    "## Relation for divisibility of $p(11k+6)$ by 11"
   ]
  },
  {
   "cell_type": "markdown",
   "metadata": {},
   "source": [
    "Let's first define $F$ as on top of page 30 of \\cite{Radu:RamanujanKolberg:2015}, i.e.\n",
    "$$\n",
    "F(\\tau) = q^{\\frac{13}{24}}\\frac{\\eta(\\tau)^{10}\\eta(2\\tau)^2\\eta(11\\tau)^{11}}{\\eta(22\\tau)^{22}} \\sum_{k=0}^{\\infty}p(11k+6)q^k\n",
    "$$"
   ]
  },
  {
   "cell_type": "markdown",
   "metadata": {},
   "source": [
    "First we define the partion series."
   ]
  },
  {
   "cell_type": "code",
   "execution_count": 12,
   "metadata": {},
   "outputs": [
    {
     "name": "stdout",
     "output_type": "stream",
     "text": [
      "              2      3      4      5      6\n",
      "   1 + q + 2 q  + 3 q  + 5 q  + 7 q  + O(q )\n"
     ]
    },
    {
     "data": {},
     "metadata": {},
     "output_type": "display_data"
    }
   ],
   "source": [
    "ps: LZ := partitionSeries(1)$QFunctions(Z, LZ)"
   ]
  },
  {
   "cell_type": "markdown",
   "metadata": {},
   "source": [
    "Then we select the sub-series given by the (11n+6)-th term."
   ]
  },
  {
   "cell_type": "code",
   "execution_count": 13,
   "metadata": {},
   "outputs": [
    {
     "name": "stdout",
     "output_type": "stream",
     "text": [
      "                      2          3           4            5      6\n",
      "   11 + 297 q + 3718 q  + 31185 q  + 204226 q  + 1121505 q  + O(q )\n"
     ]
    },
    {
     "data": {},
     "metadata": {},
     "output_type": "display_data"
    }
   ],
   "source": [
    "r11: LZ := choose((n: Z): Z +-> 11*n+6, ps, 0)"
   ]
  },
  {
   "cell_type": "code",
   "execution_count": 14,
   "metadata": {},
   "outputs": [
    {
     "name": "stdout",
     "output_type": "stream",
     "text": []
    },
    {
     "data": {},
     "metadata": {},
     "output_type": "display_data"
    }
   ],
   "source": [
    "pfZ := retract(q24(13)$EtaQuotient(Z, LZ)*etaQuotient(divs, [10,2,11,-22])$EtaQuotient(Z, LZ));"
   ]
  },
  {
   "cell_type": "code",
   "execution_count": 15,
   "metadata": {},
   "outputs": [
    {
     "name": "stdout",
     "output_type": "stream",
     "text": [
      "   q\n"
     ]
    },
    {
     "data": {},
     "metadata": {},
     "output_type": "display_data"
    }
   ],
   "source": [
    "q: LZ := 'q :: LZ"
   ]
  },
  {
   "cell_type": "code",
   "execution_count": 16,
   "metadata": {},
   "outputs": [
    {
     "name": "stdout",
     "output_type": "stream",
     "text": []
    },
    {
     "data": {},
     "metadata": {},
     "output_type": "display_data"
    }
   ],
   "source": [
    "fe := pfZ * r11;"
   ]
  },
  {
   "cell_type": "code",
   "execution_count": 17,
   "metadata": {},
   "outputs": [
    {
     "name": "stdout",
     "output_type": "stream",
     "text": [
      "   [\n",
      "           - 14          - 13           - 12           - 11     2    - 10\n",
      "       11 q     + 11 17 q     + 11 101 q     + 11 336 q     + 11 84 q\n",
      "     + \n",
      "                - 9      - 8\n",
      "       11 2026 q    + O(q   )\n",
      "     ,\n",
      "    F]\n"
     ]
    },
    {
     "data": {},
     "metadata": {},
     "output_type": "display_data"
    }
   ],
   "source": [
    "fex: X := xembed(zcmap fe, F)"
   ]
  },
  {
   "cell_type": "markdown",
   "metadata": {},
   "source": [
    "Now we can reduce this element `fex` by the respective algebra basis, taking into account that `tex` is our special $t$ that we used in the construction of the algebra basis of the $\\eta$-quotients of level 22.\n",
    "\n",
    "As can be seen from the sorted monomials of the representaion, $F$ can be expressed as $F=11p(M_1,\\ldots, M_7)$ where $p$ is a polynomial having coefficient denominators not divisible by 11."
   ]
  },
  {
   "cell_type": "code",
   "execution_count": 18,
   "metadata": {},
   "outputs": [
    {
     "name": "stdout",
     "output_type": "stream",
     "text": [
      "       12\n",
      "   [O(q  ),\n",
      "\n",
      "         2 767         2   3         2 1059           57        2 1493\n",
      "       11  --- M7 + (11  ---- M1 + 11  ----)M6 + (11 --- M1 + 11  ----)M5\n",
      "           340           1360           340          272           340\n",
      "     + \n",
      "             1     2     2  4497        3  789          1867        2 619\n",
      "       (11 ----- M1  + 11  ----- M1 + 11  ----)M4 + (11 ---- M1 + 11  ---)M3\n",
      "           10880           10880          2720          1360          340\n",
      "     + \n",
      "               1     3          1011   2     2   1647        1        3\n",
      "       11 (- -----)M1  + 11 (- -----)M1  + 11 (- ----)M1 - ---- F + 11 (- 1)\n",
      "             10880             10880             2720      1360\n",
      "     ]\n"
     ]
    },
    {
     "data": {},
     "metadata": {},
     "output_type": "display_data"
    }
   ],
   "source": [
    "rex := reduce(fex, tex, abex)"
   ]
  },
  {
   "cell_type": "code",
   "execution_count": 19,
   "metadata": {},
   "outputs": [
    {
     "name": "stdout",
     "output_type": "stream",
     "text": [
      "   true\n"
     ]
    },
    {
     "data": {},
     "metadata": {},
     "output_type": "display_data"
    }
   ],
   "source": [
    "zero? rex"
   ]
  },
  {
   "cell_type": "code",
   "execution_count": 20,
   "metadata": {},
   "outputs": [
    {
     "name": "stdout",
     "output_type": "stream",
     "text": [
      "      2      2         2                2         2      2         3\n",
      "   [11 M7, 11 M1 M6, 11 M6, 11 M1 M5, 11 M5, 11 M1 M4, 11 M1 M4, 11 M4,\n",
      "                2         3       2    2         3\n",
      "    11 M1 M3, 11 M3, 11 M1 , 11 M1 , 11 M1, F, 11 ]\n"
     ]
    },
    {
     "data": {},
     "metadata": {},
     "output_type": "display_data"
    }
   ],
   "source": [
    "mrex := [(inv(unitPart leadingCoefficient x)::C)*x for x in monomials second rex]"
   ]
  },
  {
   "cell_type": "code",
   "execution_count": 21,
   "metadata": {},
   "outputs": [
    {
     "name": "stdout",
     "output_type": "stream",
     "text": []
    },
    {
     "data": {},
     "metadata": {},
     "output_type": "display_data"
    }
   ],
   "source": [
    "smaller11(x:Pol,y:Pol):Boolean == exponent leadingCoefficient x < exponent leadingCoefficient y"
   ]
  },
  {
   "cell_type": "code",
   "execution_count": 22,
   "metadata": {},
   "outputs": [
    {
     "name": "stdout",
     "output_type": "stream",
     "text": []
    },
    {
     "data": {},
     "metadata": {},
     "output_type": "display_data"
    }
   ],
   "source": [
    "smallerT(x:Pol,y:Pol):Boolean == degree(x, 'T) < degree(y, 'T)"
   ]
  },
  {
   "cell_type": "code",
   "execution_count": 23,
   "metadata": {},
   "outputs": [
    {
     "name": "stdout",
     "output_type": "stream",
     "text": [
      "            2       3                 2                2      2      2\n",
      "   [F, 11 M1 , 11 M1 , 11 M1 M3, 11 M1 M4, 11 M1 M5, 11 M1, 11 M3, 11 M1 M4,\n",
      "      2      2         2      2      3    3\n",
      "    11 M5, 11 M1 M6, 11 M6, 11 M7, 11 , 11 M4]\n"
     ]
    },
    {
     "data": {},
     "metadata": {},
     "output_type": "display_data"
    }
   ],
   "source": [
    "sort(smaller11, mrex)"
   ]
  },
  {
   "cell_type": "markdown",
   "metadata": {},
   "source": [
    "Let's normalize the leading coefficient of $F$ to 1."
   ]
  },
  {
   "cell_type": "code",
   "execution_count": 24,
   "metadata": {},
   "outputs": [
    {
     "name": "stdout",
     "output_type": "stream",
     "text": []
    },
    {
     "data": {},
     "metadata": {},
     "output_type": "display_data"
    }
   ],
   "source": [
    "rexq := second rex;"
   ]
  },
  {
   "cell_type": "code",
   "execution_count": 25,
   "metadata": {},
   "outputs": [
    {
     "name": "stdout",
     "output_type": "stream",
     "text": [
      "       1\n",
      "   - ----\n",
      "     1360\n"
     ]
    },
    {
     "data": {},
     "metadata": {},
     "output_type": "display_data"
    }
   ],
   "source": [
    "cfxq := coefficient(rexq, 'F, 1)"
   ]
  },
  {
   "cell_type": "code",
   "execution_count": 26,
   "metadata": {},
   "outputs": [
    {
     "name": "stdout",
     "output_type": "stream",
     "text": [
      "       1\n",
      "   - ----\n",
      "     1360\n"
     ]
    },
    {
     "data": {},
     "metadata": {},
     "output_type": "display_data"
    }
   ],
   "source": [
    "lcfxq := leadingCoefficient cfxq"
   ]
  },
  {
   "cell_type": "code",
   "execution_count": 27,
   "metadata": {
    "scrolled": true
   },
   "outputs": [
    {
     "name": "stdout",
     "output_type": "stream",
     "text": [
      "       2                2            2\n",
      "     11 (- 3068)M7 + (11 (- 3)M1 + 11 (- 4236))M6\n",
      "   + \n",
      "                       2\n",
      "     (11 (- 285)M1 + 11 (- 5972))M5\n",
      "   + \n",
      "            1   2     2   4497        3   789\n",
      "     (11 (- -)M1  + 11 (- ----)M1 + 11 (- ---))M4\n",
      "            8               8              2\n",
      "   + \n",
      "                        2                 1   3      1011   2     2 1647\n",
      "     (11 (- 1867)M1 + 11 (- 2476))M3 + 11 - M1  + 11 ---- M1  + 11  ---- M1 + F\n",
      "                                          8            8              2\n",
      "   + \n",
      "       3\n",
      "     11 1360\n"
     ]
    },
    {
     "data": {},
     "metadata": {},
     "output_type": "display_data"
    }
   ],
   "source": [
    "rxq := inv(lcfxq)::C*rexq"
   ]
  },
  {
   "cell_type": "markdown",
   "metadata": {},
   "source": [
    "Let's plug in the original $\\eta$-quotients into `rxq`."
   ]
  },
  {
   "cell_type": "code",
   "execution_count": 28,
   "metadata": {},
   "outputs": [
    {
     "name": "stdout",
     "output_type": "stream",
     "text": [
      "      - 4\n",
      "   O(q   )\n"
     ]
    },
    {
     "data": {},
     "metadata": {},
     "output_type": "display_data"
    }
   ],
   "source": [
    "ez := eval(rxq, c+->c::L, cons('F,msyms), cons(first fex,eqgens))$PolynomialEvaluation(C, L)"
   ]
  },
  {
   "cell_type": "code",
   "execution_count": 29,
   "metadata": {},
   "outputs": [
    {
     "name": "stdout",
     "output_type": "stream",
     "text": [
      "   true\n"
     ]
    },
    {
     "data": {},
     "metadata": {},
     "output_type": "display_data"
    }
   ],
   "source": [
    "zero? ez"
   ]
  },
  {
   "cell_type": "markdown",
   "metadata": {},
   "source": [
    "# Express in Klein's J-invariant"
   ]
  },
  {
   "cell_type": "markdown",
   "metadata": {},
   "source": [
    "Let\n",
    "$$U(v):=t^v q \\prod_{n=1}^{\\infty}(1-q^{11n})\\sum_{k=0}^{\\infty}p(11k+6)q^k.$$\n",
    "\n",
    "Below, we show that $U(7)=11 t^2 h(t, j, j_p)$ where $j$, $j_p$, and $t$ are Laurent series with integer coefficients and $h$ is a polynomial with rational coefficients having no denominator that is divisible by 11. In other words, we can give a relation $z U(7) = 11 t^2 k(t, j, j_p)$ with an integer polynomial $k$ and an integer $z$ such that $\\gcd(z,11)=1$.\n",
    "\n",
    "We choose Klein's $j$-invariant (https://en.wikipedia.org/wiki/J-invariant#The_q-expansion_and_moonshine) expressed as a Laurent series in terms of $q = \\exp(2\\pi i \\tau)$ as the series $j$ above.\n",
    "\n",
    "The series $j_p$ is given by replacing $q$ by $q^{11}$ in $j$.\n",
    "\n",
    "The series $t$ is given by\n",
    "$$t = \\left(\\frac{\\eta(\\tau)}{\\eta(11\\tau)}\\right)^{12}$$\n",
    "(again in terms of $q = \\exp(2\\pi i \\tau)$) where $\\eta$ is Dedekind's $\\eta$-function (https://en.wikipedia.org/wiki/Dedekind_eta_function#Definition).\n"
   ]
  },
  {
   "cell_type": "markdown",
   "metadata": {},
   "source": [
    "## Construction of Klein's $j$-invariant"
   ]
  },
  {
   "cell_type": "markdown",
   "metadata": {},
   "source": [
    "<font color='red'>TODO: Need reference for the following representation of $j$.</font>\n",
    "\n",
    "https://mathoverflow.net/questions/71704/computing-the-q-series-of-the-j-invariant\n",
    "\n",
    "See Serre: A course in Arithmetic\n",
    "\n",
    "http://functions.wolfram.com/EllipticFunctions/KleinInvariantJ/27/02/03/\n",
    "\n",
    "Klein's $j$-invariant can be given by the expression $$j(\\tau) = \\frac{(\\xi(\\tau)+256)^3}{\\xi(\\tau)^2}$$ where $$\\xi(\\tau) = \\left(\\frac{\\eta(\\tau)}{\\eta(2\\tau)}\\right)^{24}.$$ \n",
    "In the code below we do not mention the $\\tau$ explicitly. The resulting series are immediately expressed in terms of $q = \\exp(2\\pi i\\tau)$."
   ]
  },
  {
   "cell_type": "code",
   "execution_count": 30,
   "metadata": {
    "scrolled": true
   },
   "outputs": [
    {
     "name": "stdout",
     "output_type": "stream",
     "text": [
      "    - 1                              2              3                4      5\n",
      "   q    + 744 + 196884 q + 21493760 q  + 864299970 q  + 20245856256 q  + O(q )\n"
     ]
    },
    {
     "data": {},
     "metadata": {},
     "output_type": "display_data"
    }
   ],
   "source": [
    "xi(n:P): LZ == retract((et(n)/et(2*n))^24);\n",
    "iota(n: P): LZ == (xi(n)+256)^3/xi(n)^2;\n",
    "iz: LZ := iota 1"
   ]
  },
  {
   "cell_type": "markdown",
   "metadata": {},
   "source": [
    "Klein's $j$-invariant can be given by the expression $$j(\\tau) = E_4^3/\\Delta$$ where\n",
    "$$\\Delta=\\frac{E_4^3-E_6^2}{1728}=\\eta(\\tau)^{24}$$\n",
    "and the normalize Eisenstein series $E_4$ and $E_6$ are given by\n",
    "$$E_4=1+240 \\sum_{n=1}^\\infty \\sigma_3(n)q^n$$ and\n",
    "$$E_6=1-504 \\sum_{n=1}^\\infty \\sigma_5(n)q^n$$ where $q = \\exp(2\\pi i\\tau)$ and\n",
    "$\\sigma_k(n)$ denotes the sum of the $k$-th power of the positive divisors of $n$."
   ]
  },
  {
   "cell_type": "markdown",
   "metadata": {},
   "source": [
    "All the above are series with integers coefficients.\n",
    "For our computation, however, we compute with integers localized at the prime 11, i.e. these are rational numbers with denominators not divisible by 11.\n",
    "\n",
    "The following function simply maps the integer coefficients of the series into the localized coefficient domain and eventually creates an object that attaches the indeterminate $J$ to the series."
   ]
  },
  {
   "cell_type": "code",
   "execution_count": 31,
   "metadata": {},
   "outputs": [
    {
     "name": "stdout",
     "output_type": "stream",
     "text": [
      "     - 1                              2              3                4      5\n",
      "   [q    + 744 + 196884 q + 21493760 q  + 864299970 q  + 20245856256 q  + O(q ),\n",
      "    J]\n"
     ]
    },
    {
     "data": {},
     "metadata": {},
     "output_type": "display_data"
    }
   ],
   "source": [
    "i: L := kleinJInvariant()$QFunctions(C, L);\n",
    "j: X := xembed(i, J); first j, second j"
   ]
  },
  {
   "cell_type": "code",
   "execution_count": 32,
   "metadata": {},
   "outputs": [
    {
     "name": "stdout",
     "output_type": "stream",
     "text": [
      "     - 11      - 5\n",
      "   [q     + O(q   ), Jp]\n"
     ]
    },
    {
     "data": {},
     "metadata": {},
     "output_type": "display_data"
    }
   ],
   "source": [
    "ip: L := multiplyExponents(i, 11);\n",
    "jp: X := xembed(ip, Jp); first jp, second jp"
   ]
  },
  {
   "cell_type": "markdown",
   "metadata": {},
   "source": [
    "### The series $t$\n",
    "\n",
    "The value $t$ is given by $$t = \\left(\\frac{\\eta(\\tau)}{\\eta(11\\tau)}\\right)^{12}$$\n",
    "in terms of $q = \\exp(2\\pi i \\tau)$."
   ]
  },
  {
   "cell_type": "code",
   "execution_count": 33,
   "metadata": {},
   "outputs": [
    {
     "name": "stdout",
     "output_type": "stream",
     "text": [
      "     - 5       - 4       - 3            - 2            - 1            1\n",
      "   [q    - 12 q    + 54 q    + 11 (- 8)q    + 11 (- 9)q    + 540 + O(q ), T]\n"
     ]
    },
    {
     "data": {},
     "metadata": {},
     "output_type": "display_data"
    }
   ],
   "source": [
    "tz: LZ := retract(etaQuotient([1,11],[12,-12])$ETAZ);\n",
    "tt: L := zcmap tz;\n",
    "t: X := xembed(tt, T); first t, second t"
   ]
  },
  {
   "cell_type": "markdown",
   "metadata": {},
   "source": [
    "## Construct elements suitable for the algebraBasis algorithm"
   ]
  },
  {
   "cell_type": "code",
   "execution_count": 34,
   "metadata": {},
   "outputs": [
    {
     "name": "stdout",
     "output_type": "stream",
     "text": []
    },
    {
     "data": {},
     "metadata": {},
     "output_type": "display_data"
    }
   ],
   "source": [
    "m1: X := t;"
   ]
  },
  {
   "cell_type": "markdown",
   "metadata": {},
   "source": [
    "We need some auxiliary values $m_2$ and $m_3$."
   ]
  },
  {
   "cell_type": "code",
   "execution_count": 35,
   "metadata": {},
   "outputs": [
    {
     "name": "stdout",
     "output_type": "stream",
     "text": [
      "   [\n",
      "        - 16        - 15           - 14               - 13              - 12\n",
      "       q     + 708 q     + 170694 q     + 11 1349272 q     + 203137101 q\n",
      "     + \n",
      "                    - 11      - 10\n",
      "       11 69897060 q     + O(q    )\n",
      "     ,\n",
      "       3\n",
      "    J T ]\n"
     ]
    },
    {
     "data": {},
     "metadata": {},
     "output_type": "display_data"
    }
   ],
   "source": [
    "m2: X := j*t^3; first m2, second m2"
   ]
  },
  {
   "cell_type": "code",
   "execution_count": 36,
   "metadata": {},
   "outputs": [
    {
     "name": "stdout",
     "output_type": "stream",
     "text": [
      "   [\n",
      "        - 16       - 15       - 14            - 13            - 12        - 11\n",
      "       q     - 12 q     + 54 q     + 11 (- 8)q     + 11 (- 9)q     + 540 q\n",
      "     + \n",
      "          - 10\n",
      "       O(q    )\n",
      "     ,\n",
      "    Jp T]\n"
     ]
    },
    {
     "data": {},
     "metadata": {},
     "output_type": "display_data"
    }
   ],
   "source": [
    "m3: X := jp*t; first m3, second m3"
   ]
  },
  {
   "cell_type": "markdown",
   "metadata": {},
   "source": [
    "We want yet another value to end up in an algebra basis of orders -2 and -3.\n",
    "\n",
    "We ignore this for now, because with the data that produces a relation among $F$, $J$, $J_p$, and $T$, the computation did not finish."
   ]
  },
  {
   "cell_type": "code",
   "execution_count": 37,
   "metadata": {},
   "outputs": [
    {
     "name": "stdout",
     "output_type": "stream",
     "text": []
    },
    {
     "data": {},
     "metadata": {},
     "output_type": "display_data"
    }
   ],
   "source": [
    "m := jp; mp := j;\n",
    "while (d := qetaGrade(m)$X) > 0 repeat (c := qetaLeadingCoefficient(m)$X; e:N := d::N; m := m-c*j^e; mp:=mp-c*jp^e)"
   ]
  },
  {
   "cell_type": "code",
   "execution_count": 38,
   "metadata": {},
   "outputs": [
    {
     "name": "stdout",
     "output_type": "stream",
     "text": [
      "       - 121      - 115\n",
      "   [- q      + O(q     ),\n",
      "\n",
      "           11            10                   9                   8\n",
      "       - Jp   + 11 744 Jp   + 11 (- 2570796)Jp  + 11 4880620256 Jp\n",
      "     + \n",
      "                             7     2                  6\n",
      "       11 (- 5550817150590)Jp  + 11 351821430873072 Jp\n",
      "     + \n",
      "         2                        5     2                       4\n",
      "       11 (- 147929969197380488)Jp  + 11 35519316022933293120 Jp\n",
      "     + \n",
      "         2                            3     2                           2\n",
      "       11 (- 4373015221856525734395)Jp  + 11 224874476512864841450600 Jp\n",
      "     + \n",
      "         2\n",
      "       11 (- 3096214928567780111700972)Jp + J\n",
      "     ]\n"
     ]
    },
    {
     "data": {},
     "metadata": {},
     "output_type": "display_data"
    }
   ],
   "source": [
    "mp"
   ]
  },
  {
   "cell_type": "code",
   "execution_count": 39,
   "metadata": {},
   "outputs": [
    {
     "name": "stdout",
     "output_type": "stream",
     "text": [
      "      - 5       - 4       - 3            - 2            - 1            1\n",
      "   [[q    - 12 q    + 54 q    + 11 (- 8)q    + 11 (- 9)q    + 540 + O(q ), T],\n",
      "\n",
      "     [\n",
      "          - 16        - 15           - 14               - 13              - 12\n",
      "         q     + 708 q     + 170694 q     + 11 1349272 q     + 203137101 q\n",
      "       + \n",
      "                      - 11      - 10\n",
      "         11 69897060 q     + O(q    )\n",
      "       ,\n",
      "         3\n",
      "      J T ]\n",
      "     ,\n",
      "\n",
      "     [\n",
      "          - 16       - 15       - 14            - 13            - 12        - 11\n",
      "         q     - 12 q     + 54 q     + 11 (- 8)q     + 11 (- 9)q     + 540 q\n",
      "       + \n",
      "            - 10\n",
      "         O(q    )\n",
      "       ,\n",
      "      Jp T]\n",
      "     ]\n"
     ]
    },
    {
     "data": {},
     "metadata": {},
     "output_type": "display_data"
    }
   ],
   "source": [
    "mgens := [m1,m2,m3]"
   ]
  },
  {
   "cell_type": "markdown",
   "metadata": {},
   "source": [
    "### The algebra basis computation\n",
    "\n",
    "Then we compute the algebra basis for the elements $t=m_1$, $m_2$, and $m_3$.\n",
    "\n",
    "Since we compute in an extended algebra. The second component of each entry in the basis gives its expression in terms of the original generators."
   ]
  },
  {
   "cell_type": "code",
   "execution_count": 41,
   "metadata": {},
   "outputs": [
    {
     "name": "stdout",
     "output_type": "stream",
     "text": [
      "   12\n"
     ]
    },
    {
     "data": {},
     "metadata": {},
     "output_type": "display_data"
    }
   ],
   "source": [
    "--approx. 75 seconds\n",
    "ab: List X := algebraBasis(t, mgens)$QEtaAlgebraBasis(C, X, QEtaExtendedComputation(C, L, X)); #ab"
   ]
  },
  {
   "cell_type": "markdown",
   "metadata": {},
   "source": [
    "Show the powers of 11 in the coefficients of the representation (in terms of J, Jp, T) of the algebra basis elements."
   ]
  },
  {
   "cell_type": "code",
   "execution_count": 42,
   "metadata": {
    "scrolled": true
   },
   "outputs": [
    {
     "name": "stdout",
     "output_type": "stream",
     "text": [
      "   [\n",
      "     [0, 0, 0, 0, 0, 0, 0, 0, 0, 0, 0, 0, 0, 1, 0, 0, 0, 0, 0, 0, 0, 0, 0, 0,\n",
      "      0, 0, 0, 0, 0, 0, 0, 0, 0, 0, 0, 0, 0, 0, 1, 1, 0, 0, 0, 0, 1, 0, 0, 0,\n",
      "      1, 0, 0, 0, 0, 0, 0, 0, 0, 0, 2, 0, 0, 0, 1, 0, 0, 0, 0, 0, 0, 0, 0, 1,\n",
      "      1, 0, 1, 0, 0, 0, 1, 0, 0, 1, 2, 2, 0, 0, 0, 0, 0, 0, 0, 2, 2, 3, 0, 0,\n",
      "      1, 1, 1, 0, 3, 3, 0, 0, 0, 3, 1, 3, 4, 4, 4, 5, 4, 6, 6, 6, 8, 8]\n",
      "     ,\n",
      "\n",
      "     [0, 1, 0, 0, 0, 0, 0, 0, 0, 0, 0, 0, 0, 0, 1, 0, 0, 0, 0, 0, 0, 0, 0, 0,\n",
      "      0, 0, 0, 0, 1, 0, 0, 2, 0, 0, 0, 0, 0, 0, 2, 0, 0, 0, 0, 0, 0, 0, 1, 0,\n",
      "      0, 0, 0, 0, 0, 0, 0, 0, 0, 1, 1, 0, 0, 0, 1, 0, 1, 1, 3, 2, 0, 1, 0, 1,\n",
      "      0, 2, 2, 3, 0, 1, 0, 1, 0, 3, 3, 1, 2, 3, 1, 3, 4, 1, 1, 1, 4, 4, 2, 2,\n",
      "      4, 4]\n",
      "     ,\n",
      "\n",
      "     [0, 0, 0, 1, 0, 0, 0, 0, 0, 0, 0, 0, 0, 0, 0, 0, 1, 0, 0, 0, 0, 0, 0, 0,\n",
      "      1, 0, 0, 0, 0, 0, 0, 0, 0, 0, 0, 0, 1, 1, 0, 0, 0, 0, 0, 1, 1, 2, 0, 0,\n",
      "      0, 0, 0, 2, 2, 0, 0, 2, 0, 2, 3, 0, 0, 0, 3, 4, 3, 4, 3]\n",
      "     ,\n",
      "\n",
      "     [0, 0, 0, 0, 0, 0, 0, 0, 0, 0, 0, 0, 0, 0, 0, 0, 0, 0, 0, 0, 1, 1, 0, 1,\n",
      "      0, 2, 1, 1, 1, 1, 1, 1, 2, 3, 0, 2, 0, 3, 3, 1, 3, 1, 3, 3, 1, 1, 3, 3,\n",
      "      2, 2, 3]\n",
      "     ,\n",
      "\n",
      "     [0, 1, 0, 0, 0, 0, 0, 0, 0, 0, 0, 0, 0, 0, 0, 0, 0, 0, 0, 0, 0, 0, 0, 0,\n",
      "      0, 0, 0, 0, 0, 0, 0, 2, 0, 0, 1, 0, 1, 2, 0, 0, 0, 0, 0, 2, 2, 2, 0, 1,\n",
      "      0, 1, 0, 2, 3, 0, 0, 3, 0, 3, 4, 1, 1, 1, 3, 3, 2, 2, 3]\n",
      "     ,\n",
      "    [0, 0, 0], [0],\n",
      "\n",
      "     [0, 0, 0, 0, 0, 0, 0, 0, 0, 0, 0, 0, 0, 0, 1, 1, 0, 1, 0, 1, 3, 2, 0, 2,\n",
      "      0, 2, 2, 0, 2, 0, 2, 2, 2, 2, 1, 1]\n",
      "     ,\n",
      "\n",
      "     [0, 0, 0, 0, 0, 0, 0, 0, 0, 0, 0, 0, 0, 0, 1, 1, 0, 1, 0, 2, 1, 0, 1, 0,\n",
      "      1, 1, 0, 0, 1, 1]\n",
      "     ,\n",
      "    [0, 0, 0, 0, 0, 0, 0, 0, 0, 0, 0, 0, 0, 0, 0, 0, 0, 0, 0, 0, 0],\n",
      "    [0, 0, 0, 0, 0, 0, 0, 0, 0, 0, 0, 0, 0, 0, 0]]\n"
     ]
    },
    {
     "data": {},
     "metadata": {},
     "output_type": "display_data"
    }
   ],
   "source": [
    "[[exponent(x) for x in coefficients second ab.n] for n in 2..#ab]"
   ]
  },
  {
   "cell_type": "markdown",
   "metadata": {},
   "source": [
    "The (absolute value of the) order and the power of 11 in the leading coefficient of the elements in the algebra basis."
   ]
  },
  {
   "cell_type": "code",
   "execution_count": 43,
   "metadata": {},
   "outputs": [
    {
     "name": "stdout",
     "output_type": "stream",
     "text": [
      "          18         8         4          3          3          3\n",
      "   [[7, 11  ], [8, 11 ], [9, 11 ], [11, 11 ], [12, 11 ], [13, 11 ], [14, 1],\n",
      "                    2\n",
      "    [16, 1], [17, 11 ], [18, 11], [11 2, 1], [23, 1]]\n"
     ]
    },
    {
     "data": {},
     "metadata": {},
     "output_type": "display_data"
    }
   ],
   "source": [
    "[[qetaGrade i, unitCanonical qetaLeadingCoefficient i] for i in ab]"
   ]
  },
  {
   "cell_type": "markdown",
   "metadata": {},
   "source": [
    "We define\n",
    "$$U(v):=t^v q \\prod_{n=1}^{\\infty}(1-q^{11n})\\sum_{k=0}^{\\infty}p(11k+6)q^k.$$\n",
    "\n",
    "Let's do this step by step. We take the partition series from above."
   ]
  },
  {
   "cell_type": "code",
   "execution_count": 44,
   "metadata": {},
   "outputs": [
    {
     "name": "stdout",
     "output_type": "stream",
     "text": [
      "              2      3      4      5      6\n",
      "   1 + q + 2 q  + 3 q  + 5 q  + 7 q  + O(q )\n"
     ]
    },
    {
     "data": {},
     "metadata": {},
     "output_type": "display_data"
    }
   ],
   "source": [
    "ps"
   ]
  },
  {
   "cell_type": "markdown",
   "metadata": {},
   "source": [
    "We also take the sub-series given by the (11n+6)-th term of ps as defined earlier. The coefficients of the series `r11` we want to check for divisibility by 11. "
   ]
  },
  {
   "cell_type": "code",
   "execution_count": 45,
   "metadata": {},
   "outputs": [
    {
     "name": "stdout",
     "output_type": "stream",
     "text": [
      "                      2          3           4            5      6\n",
      "   11 + 297 q + 3718 q  + 31185 q  + 204226 q  + 1121505 q  + O(q )\n"
     ]
    },
    {
     "data": {},
     "metadata": {},
     "output_type": "display_data"
    }
   ],
   "source": [
    "r11"
   ]
  },
  {
   "cell_type": "markdown",
   "metadata": {},
   "source": [
    "Putting all together (except the factor $t^v$) gives the following expression."
   ]
  },
  {
   "cell_type": "code",
   "execution_count": 46,
   "metadata": {},
   "outputs": [
    {
     "name": "stdout",
     "output_type": "stream",
     "text": [
      "   [\n",
      "                     2           3            4             5              6\n",
      "       11 q + 11 27 q  + 11 338 q  + 11 2835 q  + 11 18566 q  + 11 101955 q\n",
      "     + \n",
      "          7\n",
      "       O(q )\n",
      "     ,\n",
      "    F]\n"
     ]
    },
    {
     "data": {},
     "metadata": {},
     "output_type": "display_data"
    }
   ],
   "source": [
    "fz: LZ := q*eulerFunction(11)$QFunctions(Z, LZ)*r11;\n",
    "f: X := xembed(zcmap fz, F)"
   ]
  },
  {
   "cell_type": "markdown",
   "metadata": {},
   "source": [
    "Now let's check what the smallest $v>0$ is such that $U(v)=t^v f$ is in the $\\mathbb{Q}[t]$-module generated by $\\{1, z_1, \\ldots, z_{12}\\}$ where the $z_i$ are given by the list `ab`.\n",
    "\n",
    "Although for the coefficient domain $\\mathbb{Q}$ we find $v=3$, with the coefficients being in $C=\\mathbb{Z}_{(11)}$, the reduction to zero only starts to work with $v=7$."
   ]
  },
  {
   "cell_type": "code",
   "execution_count": 47,
   "metadata": {},
   "outputs": [
    {
     "name": "stdout",
     "output_type": "stream",
     "text": [
      "   [false, false, true, true, true, true, true]\n"
     ]
    },
    {
     "data": {},
     "metadata": {},
     "output_type": "display_data"
    }
   ],
   "source": [
    "qab := [cqmap first x for x in ab];\n",
    "[zero? reduce(cqmap(first(t^v * f)), cqmap first t, qab)$QEtaReduction(Q, LQ) for v in 1..7]"
   ]
  },
  {
   "cell_type": "markdown",
   "metadata": {},
   "source": [
    "With $v=3$ the reduction does not lead to 0 in case the coefficients are non-rational, but rather lie in $\\mathbb{Z}_{(11)}$."
   ]
  },
  {
   "cell_type": "code",
   "execution_count": 48,
   "metadata": {},
   "outputs": [
    {
     "name": "stdout",
     "output_type": "stream",
     "text": [
      "   [\n",
      "           - 13      3285  - 12      8841  - 11         7246  - 10\n",
      "       11 q     + 11 ---- q     + 11 ---- q     + 11 (- ----)q\n",
      "                      247             247                247\n",
      "     + \n",
      "             174366  - 9         441459  - 8      - 7\n",
      "       11 (- ------)q    + 11 (- ------)q    + O(q   )\n",
      "               247                 247\n",
      "     ,\n",
      "            1         3              1     3             1\n",
      "    (11 -------- J - --- F + 11 (- -----))T  + 11 (- --------)Jp T]\n",
      "        16183440     247           22477             16183440\n"
     ]
    },
    {
     "data": {},
     "metadata": {},
     "output_type": "display_data"
    }
   ],
   "source": [
    "reduce(t^3*f, t, ab)"
   ]
  },
  {
   "cell_type": "code",
   "execution_count": 49,
   "metadata": {},
   "outputs": [
    {
     "name": "stdout",
     "output_type": "stream",
     "text": [
      "   [false, false, false, false, false, false, true, true, true, true]\n"
     ]
    },
    {
     "data": {},
     "metadata": {},
     "output_type": "display_data"
    }
   ],
   "source": [
    "[zero? reduce(t^v * f, t, ab) for v in 1..10]"
   ]
  },
  {
   "cell_type": "markdown",
   "metadata": {},
   "source": [
    "Since all involved series in the algebra basis `ab` have their representation in terms of $J$, $Jp$, and $T$ attached, we have found a relation in $F$, $J$, $Jp$, and $T$."
   ]
  },
  {
   "cell_type": "code",
   "execution_count": 50,
   "metadata": {},
   "outputs": [
    {
     "name": "stdout",
     "output_type": "stream",
     "text": [
      "   true\n",
      "   [T, Jp, J, F]\n"
     ]
    },
    {
     "data": {},
     "metadata": {},
     "output_type": "display_data"
    }
   ],
   "source": [
    "result := reduce(t^7 * f, t, ab);\n",
    "zero? result\n",
    "res := second result;\n",
    "variables res"
   ]
  },
  {
   "cell_type": "markdown",
   "metadata": {},
   "source": [
    "The leading coefficient is a rational number whose numerator and denominator are not divisible by 11, i.e., the `exponent` (of 11) of the coefficient is zero."
   ]
  },
  {
   "cell_type": "code",
   "execution_count": 51,
   "metadata": {},
   "outputs": [
    {
     "name": "stdout",
     "output_type": "stream",
     "text": [
      "   -\n",
      "       50529448729713161372287812465113088257245028539357223404943346605701491_\n",
      "        0196350406914325450897464531108991411920230123849040077382874946968087_\n",
      "        5868834233890730496196195678258203428161507327770190169677428557801518_\n",
      "        8852077633178670384003886841425286833330748013108959170157009521929939_\n",
      "        2364587220349275723435521887053129596441634027981689079125493090431957_\n",
      "        3739780050639020602561970984140995364820467459976808958043119593302527_\n",
      "        4162950721734165386853604324141839348908851647037357776192759698205848_\n",
      "        6327434321491044515367122675166500106736654520882272455721927098830141_\n",
      "        0333112394124991910339662961807518758534534739462800787773095703807932_\n",
      "        6335925721959170197688698398943757445863890728712310642160059439018866_\n",
      "        3314450678836261041424060095577812916933836358608449552816430495240474_\n",
      "        0218071460226565108923655342664000348847772188242322953619344490741683_\n",
      "        3371583068234359708985507804464196107772987020725883576645608957861656_\n",
      "        4292936343394849528108165436951057332053353125657152200947523894529668_\n",
      "        8324576817030624155521186302032898033038787367732023498125164996194643_\n",
      "        9416685962079606384665081635410313010949050189584222936767810071193446_\n",
      "        03072821\n",
      "     /\n",
      "       14518960145938633618552390306171414058992582043775119467986768207370409_\n",
      "        5857285744976730337286091195344775983179714303878165561776893634028822_\n",
      "        5318840862105914519381457836851120474941529459731523965068654025551435_\n",
      "        6637393497554344092667939098879148827289210969269660105930027715764677_\n",
      "        7963454173592080186568504570040913688452005355617873891514010489903687_\n",
      "        8788294071146726430495049514603503324465335951244216263888567571618034_\n",
      "        4401095742312194162210722200882015948319828553505946243790463665426366_\n",
      "        0820741637775171565717696634870035026542060908607781919925211995021237_\n",
      "        1711703638605483533538279596874688673848653745672958954262717853768430_\n",
      "        7238659671178920476010593233594743837775577033103876840056636497351496_\n",
      "        9401249099781200633917196907722262340770691041156980160139394513065147_\n",
      "        0981210554366860225823262073374071230287525974841876620039654260487239_\n",
      "        4597709053322691083249942008015718031148586590008386711619362968074799_\n",
      "        3914318213890111084357482063493540597683399721638023658202225283033897_\n",
      "        0114198306606113030832830859099626209432044682758605877660457977282189_\n",
      "        1185529836928487108812544422761939332082937563681672354149811828842440_\n",
      "        620\n",
      "   0\n"
     ]
    },
    {
     "data": {},
     "metadata": {},
     "output_type": "display_data"
    }
   ],
   "source": [
    "cf := coefficient(res, 'F, 1);\n",
    "lcf := leadingCoefficient cf\n",
    "exponent lcf"
   ]
  },
  {
   "cell_type": "markdown",
   "metadata": {},
   "source": [
    "Let's normalize the coefficient in front of the variable $F$ such that it becomes 1, i.e., we multiply by the inverse of the coefficient."
   ]
  },
  {
   "cell_type": "code",
   "execution_count": 52,
   "metadata": {},
   "outputs": [
    {
     "name": "stdout",
     "output_type": "stream",
     "text": []
    },
    {
     "data": {},
     "metadata": {},
     "output_type": "display_data"
    }
   ],
   "source": [
    "r := (inv(unitPart lcf)::C)*res;"
   ]
  },
  {
   "cell_type": "markdown",
   "metadata": {},
   "source": [
    "Let us investigate the coefficients of all monomials of $r$."
   ]
  },
  {
   "cell_type": "code",
   "execution_count": 53,
   "metadata": {
    "scrolled": true
   },
   "outputs": [
    {
     "name": "stdout",
     "output_type": "stream",
     "text": [
      "       7         6      2 6       2 6           6       3 6      2 7        7\n",
      "   [F T , 11 Jp T , 11 J T , 11 Jp T , 11 J Jp T , 11 Jp T , 11 J T , 11 J T ,\n",
      "             7         7       2 7        8      8         8      2 8\n",
      "    11 J Jp T , 11 Jp T , 11 Jp T , 11 J T , 11 T , 11 Jp T , 11 J T ,\n",
      "             8       2 8         2 8       3 8      9      2 9         9\n",
      "    11 J Jp T , 11 Jp T , 11 J Jp T , 11 Jp T , 11 T , 11 J T , 11 Jp T ,\n",
      "        2    9           9       2 9         2 9       3 9        10      10\n",
      "    11 J Jp T , 11 J Jp T , 11 Jp T , 11 J Jp T , 11 Jp T , 11 J T  , 11 T  ,\n",
      "        2 10         10      2    10           10       2 10      11      2 11\n",
      "    11 J T  , 11 Jp T  , 11 J Jp T  , 11 J Jp T  , 11 Jp T  , 11 T  , 11 J T  ,\n",
      "        3 11           11         11      2    11       2 11         2 11\n",
      "    11 J T  , 11 J Jp T  , 11 Jp T  , 11 J Jp T  , 11 Jp T  , 11 J Jp T  ,\n",
      "        12      2 12        12      3 12         12      2    12           12\n",
      "    11 T  , 11 J T  , 11 J T  , 11 J T  , 11 Jp T  , 11 J Jp T  , 11 J Jp T  ,\n",
      "          13      13      3 13      2 13           13         13      2    13\n",
      "    11 J T  , 11 T  , 11 J T  , 11 J T  , 11 J Jp T  , 11 Jp T  , 11 J Jp T  ,\n",
      "          14      14      2 14      3 14      15        15      3 15\n",
      "    11 J T  , 11 T  , 11 J T  , 11 J T  , 11 T  , 11 J T  , 11 J T  ,\n",
      "      2      5    2  2 5    2  3 5    2    2 5    2   6    2    2 6    2 7\n",
      "    11 J Jp T , 11 Jp T , 11 Jp T , 11 J Jp T , 11 J T , 11 J Jp T , 11 T ,\n",
      "      2 2    7    2    2 7    2  3 7    2 2    8    2   9    2 3 9    2 3 10\n",
      "    11 J Jp T , 11 J Jp T , 11 Jp T , 11 J Jp T , 11 J T , 11 J T , 11 J T  ,\n",
      "      2   11    2 2 15    3    5    3  4 6    3  4 7    3  4 8    3    3 8\n",
      "    11 J T  , 11 J T  , 11 Jp T , 11 Jp T , 11 Jp T , 11 Jp T , 11 J Jp T ,\n",
      "      3 2  2 9    3    3 9    3  4 9    3    2 10    3 2  2 10    3  4 10\n",
      "    11 J Jp T , 11 J Jp T , 11 Jp T , 11 J Jp T  , 11 J Jp T  , 11 Jp T  ,\n",
      "      3    3 10    3 3    11    3 2  2 11    3    3 11    3 3    12\n",
      "    11 J Jp T  , 11 J Jp T  , 11 J Jp T  , 11 J Jp T  , 11 J Jp T  ,\n",
      "      3    2 12    3  2 12    3  3 12    3    3 12    3 4 13    3 3    13\n",
      "    11 J Jp T  , 11 Jp T  , 11 Jp T  , 11 J Jp T  , 11 J T  , 11 J Jp T  ,\n",
      "      3 2  2 13    3    2 13    3 4 14    3      14    3    14    3 2    14\n",
      "    11 J Jp T  , 11 J Jp T  , 11 J T  , 11 J Jp T  , 11 Jp T  , 11 J Jp T  ,\n",
      "      3  2 14    3 3    14    3 2  2 14    3    2 14    3 4 15    3    15\n",
      "    11 Jp T  , 11 J Jp T  , 11 J Jp T  , 11 J Jp T  , 11 J T  , 11 Jp T  ,\n",
      "      3 2    15    3 3    15    3   16    3 3 16    3 2 16    3 4 16\n",
      "    11 J Jp T  , 11 J Jp T  , 11 J T  , 11 J T  , 11 J T  , 11 J T  ,\n",
      "      3      16    3 3    16    3 2    16    3 17    3 2 17    3 4 17\n",
      "    11 J Jp T  , 11 J Jp T  , 11 J Jp T  , 11 T  , 11 J T  , 11 J T  ,\n",
      "      3   18    3 18    3 2 18    3 4 18    3 3 18    4   5    4 6    4  4 5\n",
      "    11 J T  , 11 T  , 11 J T  , 11 J T  , 11 J T  , 11 J T , 11 T , 11 Jp T ,\n",
      "      4    3 6    4    3 7    4 2  2 8    4 3    10    4  3 10    4  3 11\n",
      "    11 J Jp T , 11 J Jp T , 11 J Jp T , 11 J Jp T  , 11 Jp T  , 11 Jp T  ,\n",
      "      4 4 12    4  2 13    4      15    4 16    4    16    4 3 17    5 5\n",
      "    11 J T  , 11 Jp T  , 11 J Jp T  , 11 T  , 11 Jp T  , 11 J T  , 11 T ,\n",
      "      5 2  2 12    5   17    6   4    6      4    6  2 4    6  4 4    7  3 4\n",
      "    11 J Jp T  , 11 J T  , 11 J T , 11 J Jp T , 11 Jp T , 11 Jp T , 11 Jp T ,\n",
      "      8 4    8    4    12    3    12 3    12  2 3    12  3 3    18    2\n",
      "    11 T , 11 Jp T , 11  Jp T , 11  T , 11  Jp T , 11  Jp T , 11  Jp T ,\n",
      "      18 2    18  2 2\n",
      "    11  T , 11  Jp T ]\n",
      "      18    2    18 2    18  2 2    12    3    12 3    12  2 3    12  3 3\n",
      "   [11  Jp T , 11  T , 11  Jp T , 11  Jp T , 11  T , 11  Jp T , 11  Jp T ,\n",
      "      8 4    6   4    6      4    8    4    7  3 4    6  2 4    6  4 4\n",
      "    11 T , 11 J T , 11 J Jp T , 11 Jp T , 11 Jp T , 11 Jp T , 11 Jp T ,\n",
      "      4   5    5 5    2      5    3    5    2  2 5    2  3 5    2    2 5\n",
      "    11 J T , 11 T , 11 J Jp T , 11 Jp T , 11 Jp T , 11 Jp T , 11 J Jp T ,\n",
      "      4  4 5    4 6    2   6         6      2 6       2 6           6\n",
      "    11 Jp T , 11 T , 11 J T , 11 Jp T , 11 J T , 11 Jp T , 11 J Jp T ,\n",
      "      2    2 6    4    3 6       3 6    3  4 6    2 7     7      2 7        7\n",
      "    11 J Jp T , 11 J Jp T , 11 Jp T , 11 Jp T , 11 T , F T , 11 J T , 11 J T ,\n",
      "             7         7    2 2    7    2    2 7       2 7    4    3 7\n",
      "    11 J Jp T , 11 Jp T , 11 J Jp T , 11 J Jp T , 11 Jp T , 11 J Jp T ,\n",
      "      2  3 7    3  4 7        8      8         8      2 8           8\n",
      "    11 Jp T , 11 Jp T , 11 J T , 11 T , 11 Jp T , 11 J T , 11 J Jp T ,\n",
      "         2 8    2 2    8    4 2  2 8         2 8       3 8    3  4 8\n",
      "    11 Jp T , 11 J Jp T , 11 J Jp T , 11 J Jp T , 11 Jp T , 11 Jp T ,\n",
      "      3    3 8    2   9      9      2 9         9    2 3 9      2    9\n",
      "    11 J Jp T , 11 J T , 11 T , 11 J T , 11 Jp T , 11 J T , 11 J Jp T ,\n",
      "             9       2 9    3 2  2 9         2 9    3    3 9       3 9\n",
      "    11 J Jp T , 11 Jp T , 11 J Jp T , 11 J Jp T , 11 J Jp T , 11 Jp T ,\n",
      "      3  4 9        10      10    2 3 10      2 10         10      2    10\n",
      "    11 Jp T , 11 J T  , 11 T  , 11 J T  , 11 J T  , 11 Jp T  , 11 J Jp T  ,\n",
      "             10       2 10    4 3    10    3    2 10    4  3 10    3 2  2 10\n",
      "    11 J Jp T  , 11 Jp T  , 11 J Jp T  , 11 J Jp T  , 11 Jp T  , 11 J Jp T  ,\n",
      "      3  4 10    3    3 10      11      2 11    2   11      3 11           11\n",
      "    11 Jp T  , 11 J Jp T  , 11 T  , 11 J T  , 11 J T  , 11 J T  , 11 J Jp T  ,\n",
      "           11      2    11       2 11    3 3    11    3 2  2 11         2 11\n",
      "    11 Jp T  , 11 J Jp T  , 11 Jp T  , 11 J Jp T  , 11 J Jp T  , 11 J Jp T  ,\n",
      "      4  3 11    3    3 11      12      2 12        12      3 12         12\n",
      "    11 Jp T  , 11 J Jp T  , 11 T  , 11 J T  , 11 J T  , 11 J T  , 11 Jp T  ,\n",
      "      4 4 12      2    12           12    3 3    12    3    2 12    3  2 12\n",
      "    11 J T  , 11 J Jp T  , 11 J Jp T  , 11 J Jp T  , 11 J Jp T  , 11 Jp T  ,\n",
      "      3  3 12    5 2  2 12    3    3 12        13      13      3 13      2 13\n",
      "    11 Jp T  , 11 J Jp T  , 11 J Jp T  , 11 J T  , 11 T  , 11 J T  , 11 J T  ,\n",
      "      3 4 13           13         13    3 3    13      2    13    4  2 13\n",
      "    11 J T  , 11 J Jp T  , 11 Jp T  , 11 J Jp T  , 11 J Jp T  , 11 Jp T  ,\n",
      "      3 2  2 13    3    2 13        14      14      2 14    3 4 14      3 14\n",
      "    11 J Jp T  , 11 J Jp T  , 11 J T  , 11 T  , 11 J T  , 11 J T  , 11 J T  ,\n",
      "      3      14    3    14    3 2    14    3  2 14    3 3    14    3 2  2 14\n",
      "    11 J Jp T  , 11 Jp T  , 11 J Jp T  , 11 Jp T  , 11 J Jp T  , 11 J Jp T  ,\n",
      "      3    2 14      15    2 2 15        15    3 4 15      3 15    3    15\n",
      "    11 J Jp T  , 11 T  , 11 J T  , 11 J T  , 11 J T  , 11 J T  , 11 Jp T  ,\n",
      "      3 2    15    4      15    3 3    15    4 16    3   16    3 3 16\n",
      "    11 J Jp T  , 11 J Jp T  , 11 J Jp T  , 11 T  , 11 J T  , 11 J T  ,\n",
      "      3 2 16    4    16    3 4 16    3      16    3 3    16    3 2    16\n",
      "    11 J T  , 11 Jp T  , 11 J T  , 11 J Jp T  , 11 J Jp T  , 11 J Jp T  ,\n",
      "      5   17    3 17    3 2 17    3 4 17    4 3 17    3   18    3 18    3 2 18\n",
      "    11 J T  , 11 T  , 11 J T  , 11 J T  , 11 J T  , 11 J T  , 11 T  , 11 J T  ,\n",
      "      3 4 18    3 3 18\n",
      "    11 J T  , 11 J T  ]\n"
     ]
    },
    {
     "data": {},
     "metadata": {},
     "output_type": "display_data"
    }
   ],
   "source": [
    "mr := [(inv(unitPart leadingCoefficient x)::C)*x for x in monomials r];\n",
    "smaller11(x:Pol,y:Pol):Boolean == exponent leadingCoefficient x < exponent leadingCoefficient y\n",
    "smallerT(x:Pol,y:Pol):Boolean == degree(x, 'T) < degree(y, 'T)\n",
    "sort(smaller11, mr)\n",
    "sort(smallerT, mr)"
   ]
  },
  {
   "cell_type": "markdown",
   "metadata": {},
   "source": [
    "The above shows that we have found a relation\n",
    "$$U(7):=t^7 q \\prod_{n=1}^{\\infty}(1-q^{11n})\\sum_{k=0}^{\\infty}p(11k+6)q^k = 11 t^2 h(t,j,j_p)$$\n",
    "where $h$ is a polynomial in $\\mathbb{Z}_{(11)}[t,j,j_p]$."
   ]
  },
  {
   "cell_type": "markdown",
   "metadata": {},
   "source": [
    "Let us create output that can directly pasted into a journal paper."
   ]
  },
  {
   "cell_type": "code",
   "execution_count": 54,
   "metadata": {},
   "outputs": [
    {
     "name": "stdout",
     "output_type": "stream",
     "text": [
      "   161\n",
      "   (0, 0, 0),\n",
      "   (0, 0, 1),\n",
      "   (0, 0, 2),\n",
      "   (1, 0, 0),\n",
      "   (1, 0, 1),\n",
      "   (1, 0, 2),\n",
      "   (1, 0, 3),\n",
      "   (2, 0, 0),\n",
      "   (2, 0, 1),\n",
      "   (2, 0, 2),\n",
      "   (2, 0, 3),\n",
      "   (2, 0, 4),\n",
      "   (2, 1, 0),\n",
      "   (2, 1, 1),\n",
      "   (3, 0, 0),\n",
      "   (3, 0, 1),\n",
      "   (3, 0, 2),\n",
      "   (3, 0, 3),\n",
      "   (3, 0, 4),\n",
      "   (3, 1, 0),\n",
      "   (3, 1, 1),\n",
      "   (3, 1, 2),\n",
      "   (4, 0, 0),\n",
      "   (4, 0, 1),\n",
      "   (4, 0, 2),\n",
      "   (4, 0, 3),\n",
      "   (4, 0, 4),\n",
      "   (4, 1, 0),\n",
      "   (4, 1, 1),\n",
      "   (4, 1, 2),\n",
      "   (4, 1, 3),\n",
      "   (4, 2, 0),\n",
      "   (5, 0, 0),\n",
      "   (5, 0, 1),\n",
      "   (5, 0, 2),\n",
      "   (5, 0, 3),\n",
      "   (5, 0, 4),\n",
      "   (5, 1, 0),\n",
      "   (5, 1, 1),\n",
      "   (5, 1, 2),\n",
      "   (5, 1, 3),\n",
      "   (5, 2, 0),\n",
      "   (5, 2, 1),\n",
      "   (6, 0, 0),\n",
      "   (6, 0, 1),\n",
      "   (6, 0, 2),\n",
      "   (6, 0, 3),\n",
      "   (6, 0, 4),\n",
      "   (6, 1, 0),\n",
      "   (6, 1, 1),\n",
      "   (6, 1, 2),\n",
      "   (6, 1, 3),\n",
      "   (6, 2, 0),\n",
      "   (6, 2, 1),\n",
      "   (6, 2, 2),\n",
      "   (7, 0, 0),\n",
      "   (7, 0, 1),\n",
      "   (7, 0, 2),\n",
      "   (7, 0, 3),\n",
      "   (7, 0, 4),\n",
      "   (7, 1, 0),\n",
      "   (7, 1, 1),\n",
      "   (7, 1, 2),\n",
      "   (7, 1, 3),\n",
      "   (7, 2, 0),\n",
      "   (7, 2, 1),\n",
      "   (7, 2, 2),\n",
      "   (7, 3, 0),\n",
      "   (8, 0, 0),\n",
      "   (8, 0, 1),\n",
      "   (8, 0, 2),\n",
      "   (8, 0, 3),\n",
      "   (8, 0, 4),\n",
      "   (8, 1, 0),\n",
      "   (8, 1, 1),\n",
      "   (8, 1, 2),\n",
      "   (8, 1, 3),\n",
      "   (8, 2, 0),\n",
      "   (8, 2, 1),\n",
      "   (8, 2, 2),\n",
      "   (8, 3, 0),\n",
      "   (8, 3, 1),\n",
      "   (9, 0, 0),\n",
      "   (9, 0, 1),\n",
      "   (9, 0, 2),\n",
      "   (9, 0, 3),\n",
      "   (9, 1, 0),\n",
      "   (9, 1, 1),\n",
      "   (9, 1, 2),\n",
      "   (9, 1, 3),\n",
      "   (9, 2, 0),\n",
      "   (9, 2, 1),\n",
      "   (9, 2, 2),\n",
      "   (9, 3, 0),\n",
      "   (9, 3, 1),\n",
      "   (10, 0, 0),\n",
      "   (10, 0, 1),\n",
      "   (10, 0, 2),\n",
      "   (10, 0, 3),\n",
      "   (10, 1, 0),\n",
      "   (10, 1, 1),\n",
      "   (10, 1, 2),\n",
      "   (10, 1, 3),\n",
      "   (10, 2, 0),\n",
      "   (10, 2, 1),\n",
      "   (10, 2, 2),\n",
      "   (10, 3, 0),\n",
      "   (10, 3, 1),\n",
      "   (10, 4, 0),\n",
      "   (11, 0, 0),\n",
      "   (11, 0, 1),\n",
      "   (11, 0, 2),\n",
      "   (11, 1, 0),\n",
      "   (11, 1, 1),\n",
      "   (11, 1, 2),\n",
      "   (11, 2, 0),\n",
      "   (11, 2, 1),\n",
      "   (11, 2, 2),\n",
      "   (11, 3, 0),\n",
      "   (11, 3, 1),\n",
      "   (11, 4, 0),\n",
      "   (12, 0, 0),\n",
      "   (12, 0, 1),\n",
      "   (12, 0, 2),\n",
      "   (12, 1, 0),\n",
      "   (12, 1, 1),\n",
      "   (12, 1, 2),\n",
      "   (12, 2, 0),\n",
      "   (12, 2, 1),\n",
      "   (12, 2, 2),\n",
      "   (12, 3, 0),\n",
      "   (12, 3, 1),\n",
      "   (12, 4, 0),\n",
      "   (13, 0, 0),\n",
      "   (13, 0, 1),\n",
      "   (13, 1, 0),\n",
      "   (13, 1, 1),\n",
      "   (13, 2, 0),\n",
      "   (13, 2, 1),\n",
      "   (13, 3, 0),\n",
      "   (13, 3, 1),\n",
      "   (13, 4, 0),\n",
      "   (14, 0, 0),\n",
      "   (14, 0, 1),\n",
      "   (14, 1, 0),\n",
      "   (14, 1, 1),\n",
      "   (14, 2, 0),\n",
      "   (14, 2, 1),\n",
      "   (14, 3, 0),\n",
      "   (14, 3, 1),\n",
      "   (14, 4, 0),\n",
      "   (15, 0, 0),\n",
      "   (15, 1, 0),\n",
      "   (15, 2, 0),\n",
      "   (15, 3, 0),\n",
      "   (15, 4, 0),\n",
      "   (16, 0, 0),\n",
      "   (16, 1, 0),\n",
      "   (16, 2, 0),\n",
      "   (16, 3, 0),\n",
      "   (16, 4, 0),\n"
     ]
    },
    {
     "data": {},
     "metadata": {},
     "output_type": "display_data"
    }
   ],
   "source": [
    "tups := [(d:=degree(x, [T,J,Jp]); [d.1-2,d.2,d.3]) for x in rest sort(smaller11, mr)];\n",
    "#tups\n",
    "for x in sort tups repeat print hconcat(x::Tuple(Z)::OutputForm, \",\"::Symbol)"
   ]
  },
  {
   "cell_type": "markdown",
   "metadata": {},
   "source": [
    "Size of numerator and denominators of the coefficients of the linear combination of the powerproducts."
   ]
  },
  {
   "cell_type": "code",
   "execution_count": 55,
   "metadata": {},
   "outputs": [
    {
     "name": "stdout",
     "output_type": "stream",
     "text": [
      "   [0.0, 2324.0, 2324.0, 2325.0, 2325.0, 2325.0, 2325.0, 2326.0, 2326.0,\n",
      "    2326.0, 2326.0, 2326.0, 2326.0, 2327.0, 2327.0, 2327.0, 2329.0, 2332.0,\n",
      "    2335.0, 2335.0, 2336.0, 2336.0, 2336.0, 2336.0, 2337.0, 2337.0, 2337.0,\n",
      "    2337.0, 2338.0, 2338.0, 2339.0, 2340.0, 2342.0, 2343.0, 2343.0, 2344.0,\n",
      "    2344.0, 2345.0, 2345.0, 2345.0, 2345.0, 2347.0, 2347.0, 2347.0, 2347.0,\n",
      "    2347.0, 2347.0, 2349.0, 2349.0, 2350.0, 2350.0, 2351.0, 2351.0, 2351.0,\n",
      "    2352.0, 2352.0, 2353.0, 2354.0, 2354.0, 2354.0, 2354.0, 2355.0, 2355.0,\n",
      "    2356.0, 2356.0, 2356.0, 2356.0, 2356.0, 2357.0, 2357.0, 2357.0, 2357.0,\n",
      "    2358.0, 2359.0, 2359.0, 2359.0, 2359.0, 2360.0, 2360.0, 2360.0, 2361.0,\n",
      "    2361.0, 2361.0, 2362.0, 2362.0, 2362.0, 2363.0, 2364.0, 2364.0, 2364.0,\n",
      "    2364.0, 2364.0, 2364.0, 2364.0, 2365.0, 2365.0, 2365.0, 2365.0, 2366.0,\n",
      "    2366.0, 2366.0, 2366.0, 2367.0, 2367.0, 2367.0, 2367.0, 2368.0, 2369.0,\n",
      "    2369.0, 2370.0, 2370.0, 2370.0, 2370.0, 2371.0, 2371.0, 2372.0, 2373.0,\n",
      "    2373.0, 2374.0, 2374.0, 2374.0, 2374.0, 2374.0, 2375.0, 2375.0, 2375.0,\n",
      "    2376.0, 2376.0, 2378.0, 2378.0, 2378.0, 2378.0, 2379.0, 2379.0, 2379.0,\n",
      "    2381.0, 2381.0, 2382.0, 2383.0, 2383.0, 2383.0, 2383.0, 2384.0, 2384.0,\n",
      "    2384.0, 2384.0, 2384.0, 2385.0, 2385.0, 2386.0, 2388.0, 2388.0, 2388.0,\n",
      "    2388.0, 2391.0, 2391.0, 2392.0, 2393.0, 2394.0, 2394.0, 2394.0, 2395.0]\n",
      "   [0.0, 2378.0, 2379.0, 2380.0, 2380.0, 2380.0, 2381.0, 2381.0, 2381.0,\n",
      "    2381.0, 2381.0, 2382.0, 2382.0, 2382.0, 2382.0, 2383.0, 2383.0, 2383.0,\n",
      "    2383.0, 2383.0, 2383.0, 2383.0, 2384.0, 2384.0, 2384.0, 2384.0, 2384.0,\n",
      "    2384.0, 2384.0, 2384.0, 2384.0, 2384.0, 2384.0, 2384.0, 2384.0, 2384.0,\n",
      "    2384.0, 2385.0, 2385.0, 2385.0, 2385.0, 2385.0, 2385.0, 2385.0, 2385.0,\n",
      "    2385.0, 2386.0, 2386.0, 2386.0, 2386.0, 2386.0, 2386.0, 2386.0, 2386.0,\n",
      "    2386.0, 2387.0, 2387.0, 2387.0, 2387.0, 2387.0, 2387.0, 2387.0, 2387.0,\n",
      "    2387.0, 2387.0, 2387.0, 2387.0, 2387.0, 2387.0, 2387.0, 2387.0, 2387.0,\n",
      "    2387.0, 2387.0, 2387.0, 2387.0, 2388.0, 2388.0, 2388.0, 2388.0, 2388.0,\n",
      "    2388.0, 2388.0, 2388.0, 2388.0, 2389.0, 2389.0, 2389.0, 2389.0, 2389.0,\n",
      "    2389.0, 2389.0, 2389.0, 2389.0, 2389.0, 2389.0, 2389.0, 2389.0, 2389.0,\n",
      "    2389.0, 2390.0, 2390.0, 2390.0, 2390.0, 2390.0, 2390.0, 2390.0, 2390.0,\n",
      "    2390.0, 2390.0, 2390.0, 2390.0, 2391.0, 2391.0, 2391.0, 2391.0, 2391.0,\n",
      "    2391.0, 2391.0, 2391.0, 2391.0, 2392.0, 2392.0, 2392.0, 2392.0, 2392.0,\n",
      "    2392.0, 2392.0, 2392.0, 2392.0, 2392.0, 2392.0, 2392.0, 2392.0, 2392.0,\n",
      "    2392.0, 2392.0, 2392.0, 2392.0, 2392.0, 2392.0, 2393.0, 2393.0, 2393.0,\n",
      "    2393.0, 2393.0, 2393.0, 2393.0, 2393.0, 2393.0, 2394.0, 2394.0, 2394.0,\n",
      "    2394.0, 2394.0, 2394.0, 2394.0, 2394.0, 2395.0, 2395.0, 2395.0, 2395.0]\n"
     ]
    },
    {
     "data": {},
     "metadata": {},
     "output_type": "display_data"
    }
   ],
   "source": [
    "sort [floor((log(abs(numer(x::Q)::Float))/log(10.0))::Float) for x in coefficients r]\n",
    "sort [floor((log(abs(denom(x::Q)::Float))/log(10.0))::Float) for x in coefficients r]"
   ]
  },
  {
   "cell_type": "code",
   "execution_count": 56,
   "metadata": {},
   "outputs": [
    {
     "name": "stdout",
     "output_type": "stream",
     "text": [
      "   [2, 2, 2, 3, 3, 3, 3, 4, 4, 4, 4, 4, 4, 4, 5, 5, 5, 5, 5, 5, 5, 5, 6, 6, 6,\n",
      "    6, 6, 6, 6, 6, 6, 6, 7, 7, 7, 7, 7, 7, 7, 7, 7, 7, 7, 7, 8, 8, 8, 8, 8, 8,\n",
      "    8, 8, 8, 8, 8, 8, 9, 9, 9, 9, 9, 9, 9, 9, 9, 9, 9, 9, 9, 10, 10, 10, 10,\n",
      "    10, 10, 10, 10, 10, 10, 10, 10, 10, 10, 11, 11, 11, 11, 11, 11, 11, 11, 11,\n",
      "    11, 11, 11, 11, 12, 12, 12, 12, 12, 12, 12, 12, 12, 12, 12, 12, 12, 12, 13,\n",
      "    13, 13, 13, 13, 13, 13, 13, 13, 13, 13, 13, 14, 14, 14, 14, 14, 14, 14, 14,\n",
      "    14, 14, 14, 14, 15, 15, 15, 15, 15, 15, 15, 15, 15, 16, 16, 16, 16, 16, 16,\n",
      "    16, 16, 16, 17, 17, 17, 17, 17, 18, 18, 18, 18, 18]\n"
     ]
    },
    {
     "data": {},
     "metadata": {},
     "output_type": "display_data"
    }
   ],
   "source": [
    "sort [degree(x, T) for x in mr]"
   ]
  },
  {
   "cell_type": "markdown",
   "metadata": {},
   "source": [
    "## Check the relation\n",
    "\n",
    "Plugging in the series $f$, $j$, $j_p$, $t$, for the indeterminates $F$, $J$, $J_p$, $T$ in $r$ should result in the zero series."
   ]
  },
  {
   "cell_type": "code",
   "execution_count": 57,
   "metadata": {},
   "outputs": [
    {
     "name": "stdout",
     "output_type": "stream",
     "text": [
      "      - 83\n",
      "   O(q    )\n",
      "   true\n",
      "      12\n",
      "   O(q  )\n"
     ]
    },
    {
     "data": {},
     "metadata": {},
     "output_type": "display_data"
    }
   ],
   "source": [
    "-- approx. 45 seconds\n",
    "fjjpt: List Symbol := [F, J, Jp, T];\n",
    "z := eval(r, c+->c::L, fjjpt, [first f, first j, first jp, first t])$PolynomialEvaluation(C, L)\n",
    "zero? z\n",
    "z"
   ]
  },
  {
   "cell_type": "markdown",
   "metadata": {},
   "source": [
    "Let's check whether the relation interpreted with rational coefficients also yields zero. This checks against bugs in `IntegerLocalizedAtPrime`."
   ]
  },
  {
   "cell_type": "code",
   "execution_count": 58,
   "metadata": {},
   "outputs": [
    {
     "name": "stdout",
     "output_type": "stream",
     "text": [
      "      - 83\n",
      "   O(q    )\n",
      "   true\n",
      "      12\n",
      "   O(q  )\n"
     ]
    },
    {
     "data": {},
     "metadata": {},
     "output_type": "display_data"
    }
   ],
   "source": [
    "-- approx. 30 seconds\n",
    "rq := r::Polynomial(Fraction Integer);\n",
    "zq := eval(rq, c+->c::LQ, fjjpt, [cqmap first f, cqmap i, cqmap ip, zqmap tz])$PolynomialEvaluation(Q, LQ)\n",
    "zero? zq\n",
    "zq"
   ]
  },
  {
   "cell_type": "markdown",
   "metadata": {},
   "source": [
    "# The same algorithm can be used over the rational numbers $\\mathbb{Q}$\n",
    "\n",
    "However, that computation leads to only 5 elements in the algebra basis."
   ]
  },
  {
   "cell_type": "code",
   "execution_count": 59,
   "metadata": {},
   "outputs": [
    {
     "name": "stdout",
     "output_type": "stream",
     "text": [
      "   4\n"
     ]
    },
    {
     "data": {},
     "metadata": {},
     "output_type": "display_data"
    }
   ],
   "source": [
    "XQ ==> QEtaExtendedAlgebra(Q, LQ, PolQ);\n",
    "jq:  XQ := xembed(cqmap i,  J);\n",
    "jpq: XQ := xembed(cqmap ip, Jp);\n",
    "tq:  XQ := xembed(zqmap tz,  T);\n",
    "mqgens: List XQ := [tq, jq*tq^3, jpq*tq];\n",
    "abq: List XQ := algebraBasis(tq, mqgens)$QEtaAlgebraBasis(Q, XQ, QEtaExtendedComputation(Q, LQ, XQ)); #abq"
   ]
  },
  {
   "cell_type": "code",
   "execution_count": 60,
   "metadata": {},
   "outputs": [
    {
     "name": "stdout",
     "output_type": "stream",
     "text": [
      "   [[7, 1], [8, 1], [9, 1], [11, 1]]\n"
     ]
    },
    {
     "data": {},
     "metadata": {},
     "output_type": "display_data"
    }
   ],
   "source": [
    "[[qetaGrade i, unitCanonical qetaLeadingCoefficient i] for i in abq]"
   ]
  },
  {
   "cell_type": "code",
   "execution_count": 61,
   "metadata": {},
   "outputs": [
    {
     "name": "stdout",
     "output_type": "stream",
     "text": [
      "                2         3          4           5            6      7\n",
      "   [11 q + 297 q  + 3718 q  + 31185 q  + 204226 q  + 1121505 q  + O(q ), F]\n"
     ]
    },
    {
     "data": {},
     "metadata": {},
     "output_type": "display_data"
    }
   ],
   "source": [
    "fq: XQ := xembed(zqmap fz, F)"
   ]
  },
  {
   "cell_type": "markdown",
   "metadata": {},
   "source": [
    "As we have seen above, $U(3)$ lies in the $\\mathbb{Q}[t]$-module generated by 1 and the elements of the algebra basis."
   ]
  },
  {
   "cell_type": "code",
   "execution_count": 62,
   "metadata": {},
   "outputs": [
    {
     "name": "stdout",
     "output_type": "stream",
     "text": [
      "   [false, false, true, true, true, true, true]\n"
     ]
    },
    {
     "data": {},
     "metadata": {},
     "output_type": "display_data"
    }
   ],
   "source": [
    "[zero? reduce(tq^v * fq, tq, abq)$QEtaReduction(Q, XQ) for v in 1..7]"
   ]
  },
  {
   "cell_type": "code",
   "execution_count": 63,
   "metadata": {},
   "outputs": [
    {
     "name": "stdout",
     "output_type": "stream",
     "text": [
      "   -\n",
      "       12521111727577241016552261232773825912405848219540858433182030934460333_\n",
      "        79433146400428686578188183211\n",
      "     /\n",
      "       30115817805964225077677784999144493849261483637326937531926638818488554_\n",
      "        29918948961031907889283682210836\n"
     ]
    },
    {
     "data": {},
     "metadata": {},
     "output_type": "display_data"
    }
   ],
   "source": [
    "resultq := reduce(tq^3*fq, tq, abq);\n",
    "resq := second resultq;\n",
    "cfq := coefficient(resq, 'F, 1);\n",
    "lcfq := leadingCoefficient cfq\n",
    "rq := inv(lcfq)*resq;"
   ]
  },
  {
   "cell_type": "markdown",
   "metadata": {},
   "source": [
    "Reduction with respect to the rational basis is not useful to show divisibility of $fq$ by 11, since it leads to denominators of some coefficients of monomials that do not involve the variable $F$."
   ]
  },
  {
   "cell_type": "code",
   "execution_count": 64,
   "metadata": {},
   "outputs": [
    {
     "name": "stdout",
     "output_type": "stream",
     "text": [
      "      40 2 17    40   17    40 17    40 2 16    40   16    40 16    40      15\n",
      "   [11  J T  , 11  J T  , 11  T  , 11  J T  , 11  J T  , 11  T  , 11  J Jp T  ,\n",
      "      40    15    40 2 15    40   15    40 15    40      14    40    14\n",
      "    11  Jp T  , 11  J T  , 11  J T  , 11  T  , 11  J Jp T  , 11  Jp T  ,\n",
      "      40 2 14    39   14    39 14    40  2 13    39      13    40    13\n",
      "    11  J T  , 11  J T  , 11  T  , 11  Jp T  , 11  J Jp T  , 11  Jp T  ,\n",
      "      39 2 13    39   13    39 13    40  2 12    39      12    40    12\n",
      "    11  J T  , 11  J T  , 11  T  , 11  Jp T  , 11  J Jp T  , 11  Jp T  ,\n",
      "      39 2 12    38   12    38 12    40  2 11    37      11    40    11\n",
      "    11  J T  , 11  J T  , 11  T  , 11  Jp T  , 11  J Jp T  , 11  Jp T  ,\n",
      "      38 2 11    38   11    38 11    38  2 10    38      10    36    10\n",
      "    11  J T  , 11  J T  , 11  T  , 11  Jp T  , 11  J Jp T  , 11  Jp T  ,\n",
      "      38 2 10    37   10    35 10    35  2 9    35      9    34    9    35 2 9\n",
      "    11  J T  , 11  J T  , 11  T  , 11  Jp T , 11  J Jp T , 11  Jp T , 11  J T ,\n",
      "      33   9    32 9    28  2 8    29      8    29    8    31 2 8    31   8\n",
      "    11  J T , 11  T , 11  Jp T , 11  J Jp T , 11  Jp T , 11  J T , 11  J T ,\n",
      "      29 8    24  2 7    24      7    23    7    25 2 7    25   7    23 7\n",
      "    11  T , 11  Jp T , 11  J Jp T , 11  Jp T , 11  J T , 11  J T , 11  T ,\n",
      "      18  2 6    18      6    18    6    19 2 6    19   6    18 6    13  2 5\n",
      "    11  Jp T , 11  J Jp T , 11  Jp T , 11  J T , 11  J T , 11  T , 11  Jp T ,\n",
      "      13      5    12    5    13   5    12 5    7  2 4    6      4    7    4\n",
      "    11  J Jp T , 11  Jp T , 11  J T , 11  T , 11 Jp T , 11 J Jp T , 11 Jp T ,\n",
      "      7   4    7 4       2 3         3     3      3    2 2      2   2\n",
      "    11 J T , 11 T , 11 Jp T , 11 Jp T , F T , 11 T , Jp T , Jp T , T ]\n"
     ]
    },
    {
     "data": {},
     "metadata": {},
     "output_type": "display_data"
    }
   ],
   "source": [
    "[unitCanonical(denom(x)::C)*((inv(leadingCoefficient(x)))*x)::Pol for x in monomials rq]"
   ]
  },
  {
   "cell_type": "markdown",
   "metadata": {},
   "source": [
    "# The relation in $M_i$'s with integer coefficients"
   ]
  },
  {
   "cell_type": "markdown",
   "metadata": {},
   "source": [
    "Here $\\mathbb{Z}$ is considered as a Euclidean domain wrt the absolute value as the Euclidean size function."
   ]
  },
  {
   "cell_type": "code",
   "execution_count": 65,
   "metadata": {},
   "outputs": [
    {
     "name": "stdout",
     "output_type": "stream",
     "text": []
    },
    {
     "data": {},
     "metadata": {},
     "output_type": "display_data"
    }
   ],
   "source": [
    "XZ ==> QEtaExtendedAlgebra(Z, LZ, PolZ)"
   ]
  },
  {
   "cell_type": "code",
   "execution_count": 66,
   "metadata": {},
   "outputs": [
    {
     "name": "stdout",
     "output_type": "stream",
     "text": [
      "      - 5      - 4       - 3       - 2      - 1           1\n",
      "   [[q    - 7 q    + 17 q    - 14 q    + 2 q    - 21 + O(q ), M1],\n",
      "      - 5      - 4      - 3      - 2       - 1           1\n",
      "    [q    + 4 q    + 6 q    + 8 q    + 13 q    + 12 + O(q ), M2],\n",
      "      - 6      - 5    - 4      - 3    - 2      - 1      0\n",
      "    [q    + 2 q    - q    - 2 q    - q    - 6 q    + O(q ), M3],\n",
      "      - 5    - 4    - 3      - 2      - 1          1\n",
      "    [q    + q    + q    + 2 q    + 2 q    + 3 + O(q ), M4],\n",
      "      - 7      - 5      - 3      - 1\n",
      "    [q    - 4 q    + 2 q    + O(q   ), M5],\n",
      "      - 8      - 7      - 6      - 5      - 4      - 2\n",
      "    [q    - 2 q    - 3 q    + 6 q    + 2 q    + O(q   ), M6],\n",
      "      - 9      - 8      - 7      - 6      - 5      - 4      - 3\n",
      "    [q    - 4 q    + 2 q    + 8 q    - 5 q    - 4 q    + O(q   ), M7]]\n"
     ]
    },
    {
     "data": {},
     "metadata": {},
     "output_type": "display_data"
    }
   ],
   "source": [
    "xeqgensZ: List XZ := [xembed(x, s) for x in eqgensZ for s in msyms]"
   ]
  },
  {
   "cell_type": "code",
   "execution_count": 67,
   "metadata": {},
   "outputs": [
    {
     "name": "stdout",
     "output_type": "stream",
     "text": [
      "     - 5      - 4       - 3       - 2      - 1           1\n",
      "   [q    - 7 q    + 17 q    - 14 q    + 2 q    - 21 + O(q ), M1]\n",
      "         - 3       - 1                2      3\n",
      "   [[88 q    + 88 q    + 176 q + 176 q  + O(q ), - 11 M4 + 8 M2 + 3 M1],\n",
      "      - 4       - 3      - 2       - 1                 2\n",
      "    [q    + 31 q    + 2 q    + 33 q    + 3 + 62 q + O(q ), - 4 M4 + 3 M2 + M1],\n",
      "      - 6      - 5    - 4      - 3    - 2      - 1      0\n",
      "    [q    + 2 q    - q    - 2 q    - q    - 6 q    + O(q ), M3],\n",
      "      - 7      - 5      - 3      - 1\n",
      "    [q    - 4 q    + 2 q    + O(q   ), M5],\n",
      "      - 8      - 7      - 6      - 5      - 4      - 2\n",
      "    [q    - 2 q    - 3 q    + 6 q    + 2 q    + O(q   ), M6]]\n",
      "   5\n"
     ]
    },
    {
     "data": {},
     "metadata": {},
     "output_type": "display_data"
    }
   ],
   "source": [
    "ttez := xeqgensZ.1\n",
    "abez := algebraBasis(tez, xeqgensZ)$QEtaAlgebraBasis(Z, XZ, QEtaExtendedComputation(Z, LZ, XZ))\n",
    "#abez"
   ]
  },
  {
   "cell_type": "code",
   "execution_count": 68,
   "metadata": {},
   "outputs": [
    {
     "name": "stdout",
     "output_type": "stream",
     "text": [
      "   [\n",
      "           - 14        - 13         - 12         - 11          - 10          - 9\n",
      "       11 q     + 187 q     + 1111 q     + 3696 q     + 10164 q     + 22286 q\n",
      "     + \n",
      "          - 8\n",
      "       O(q   )\n",
      "     ,\n",
      "    F]\n"
     ]
    },
    {
     "data": {},
     "metadata": {},
     "output_type": "display_data"
    }
   ],
   "source": [
    "fez: XZ := xembed(fe, F)"
   ]
  },
  {
   "cell_type": "markdown",
   "metadata": {},
   "source": [
    "Interestingly, we have to multiply by 4, because otherwise the reduction would not return 0."
   ]
  },
  {
   "cell_type": "code",
   "execution_count": 69,
   "metadata": {
    "scrolled": true
   },
   "outputs": [
    {
     "name": "stdout",
     "output_type": "stream",
     "text": [
      "       12\n",
      "   [O(q  ),\n",
      "\n",
      "       139799528 M6 + (- 19800 M1 - 718078856)M5\n",
      "     + \n",
      "              2\n",
      "       (176 M1  + 18031904 M1 - 16752297419)M4 + (- 51656 M1 + 3007344648)M3\n",
      "     + \n",
      "                2                                      3             2\n",
      "       (- 132 M1  - 13523928 M1 + 4586709248)M2 - 44 M1  - 4903712 M1\n",
      "     + \n",
      "       - 593090333 M1 + 4 F - 18978271136\n",
      "     ]\n",
      "   true\n",
      "      3  2                   3 2 2                3  2\n",
      "   [[2 11 139 1039, M6], [- 2 3 5 11, M5 M1], [- 2 11 19 39043, M5],\n",
      "      4         2     5  2                   3\n",
      "    [2 11, M4 M1 ], [2 11 4657, M4 M1], [- 11 13 968173, M4],\n",
      "        3                  3      2                  2           2\n",
      "    [- 2 11 587, M3 M1], [2 3 7 11 239 619, M3], [- 2 3 11, M2 M1 ],\n",
      "        3    2                8  2                 2      3\n",
      "    [- 2 3 11 4657, M2 M1], [2 11 148073, M2], [- 2 11, M1 ],\n",
      "        5            2        2                  2          5  3\n",
      "    [- 2 11 13931, M1 ], [- 11 163 30071, M1], [2 , F], [- 2 11 445583, 1]]\n"
     ]
    },
    {
     "data": {},
     "metadata": {},
     "output_type": "display_data"
    }
   ],
   "source": [
    "rez := reduce(4*fez, tez, abez)\n",
    "zero? rez\n",
    "rz := second rez;\n",
    "mrez := monomials rz;\n",
    "[[factor leadingCoefficient x, degree x] for x in mrez]"
   ]
  },
  {
   "cell_type": "code",
   "execution_count": 70,
   "metadata": {},
   "outputs": [
    {
     "name": "stdout",
     "output_type": "stream",
     "text": [
      "      - 4\n",
      "   O(q   )\n",
      "   true\n"
     ]
    },
    {
     "data": {},
     "metadata": {},
     "output_type": "display_data"
    }
   ],
   "source": [
    "ez := eval(rz, c+->c::LZ, cons('F,msyms), cons(first fez,eqgensZ))$PolynomialEvaluation(Z, LZ)\n",
    "zero? ez"
   ]
  },
  {
   "cell_type": "markdown",
   "metadata": {
    "collapsed": true
   },
   "source": [
    "# Paule's proof via computation in $C[t,F]$"
   ]
  },
  {
   "cell_type": "code",
   "execution_count": 71,
   "metadata": {},
   "outputs": [
    {
     "name": "stdout",
     "output_type": "stream",
     "text": [
      "        - 4          - 3          - 2           - 1                          2\n",
      "   [11 q    + 11 15 q    + 11 68 q    + 11 149 q    + 11 323 + 11 376 q + O(q ),\n",
      "    Y]\n"
     ]
    },
    {
     "data": {},
     "metadata": {},
     "output_type": "display_data"
    }
   ],
   "source": [
    "fep: X := xembed(zcmap(tz*fz), Y)"
   ]
  },
  {
   "cell_type": "code",
   "execution_count": 72,
   "metadata": {},
   "outputs": [
    {
     "name": "stdout",
     "output_type": "stream",
     "text": [
      "     - 5       - 4       - 3            - 2            - 1            1\n",
      "   [q    - 12 q    + 54 q    + 11 (- 8)q    + 11 (- 9)q    + 540 + O(q ), T]\n"
     ]
    },
    {
     "data": {},
     "metadata": {},
     "output_type": "display_data"
    }
   ],
   "source": [
    "t"
   ]
  },
  {
   "cell_type": "code",
   "execution_count": 73,
   "metadata": {},
   "outputs": [
    {
     "name": "stdout",
     "output_type": "stream",
     "text": [
      "   4\n",
      "        2   3   4\n",
      "   [Y, Y , Y , Y ]\n"
     ]
    },
    {
     "data": {},
     "metadata": {},
     "output_type": "display_data"
    }
   ],
   "source": [
    "abp := algebraBasis(t, [fep])$QEtaAlgebraBasis(C, X, QEtaExtendedComputation(C, L, X));\n",
    "#abp\n",
    "[second x for x in abp]"
   ]
  },
  {
   "cell_type": "code",
   "execution_count": 74,
   "metadata": {},
   "outputs": [
    {
     "name": "stdout",
     "output_type": "stream",
     "text": [
      "       12\n",
      "   [O(q  ),\n",
      "\n",
      "        5     4      4      4             8    3\n",
      "       Y  + 11 (- 5)Y  + (11 (- 251)T + 11 10)Y\n",
      "     + \n",
      "          3         2     8             12        2\n",
      "       (11 (- 4093)T  + 11 (- 930)T + 11  (- 10))Y\n",
      "     + \n",
      "          4        3     7       2     12             16        5      4\n",
      "       (11 (- 123)T  + 11 15468 T  + 11  (- 170)T + 11  5)Y + 11 (- 1)T\n",
      "     + \n",
      "         7         3     11         2     16         20\n",
      "       11 (- 1442)T  + 11  (- 1090)T  + 11  20 T + 11  (- 1)\n",
      "     ]\n"
     ]
    },
    {
     "data": {},
     "metadata": {},
     "output_type": "display_data"
    }
   ],
   "source": [
    "rep := reduce((fep)^5, t, abp)"
   ]
  },
  {
   "cell_type": "code",
   "execution_count": 75,
   "metadata": {},
   "outputs": [
    {
     "name": "stdout",
     "output_type": "stream",
     "text": [
      "        5       4 4      4              8  3\n",
      "     - Y  + 5 11 Y  + (11 251 T - 2 5 11 )Y\n",
      "   + \n",
      "        3      2           8             12  2\n",
      "     (11 4093 T  + 2 3 5 11 31 T + 2 5 11  )Y\n",
      "   + \n",
      "          4    3    2    7      2         12           16       5 4\n",
      "     (3 11 41 T  - 2 3 11 1289 T  + 2 5 11  17 T - 5 11  )Y + 11 T\n",
      "   + \n",
      "           7     3         11     2    2    16      20\n",
      "     2 7 11 103 T  + 2 5 11  109 T  - 2 5 11  T + 11\n"
     ]
    },
    {
     "data": {},
     "metadata": {},
     "output_type": "display_data"
    }
   ],
   "source": [
    "-(second rep)::PolQ::PolZ::Polynomial(Factored(Z))"
   ]
  },
  {
   "cell_type": "code",
   "execution_count": 76,
   "metadata": {},
   "outputs": [
    {
     "name": "stdout",
     "output_type": "stream",
     "text": [
      "     5       4   3     2      2         7      11\n",
      "   11 (T + 11 )(T  + 11 1321 T  - 3 7 11 T + 11  )\n"
     ]
    },
    {
     "data": {},
     "metadata": {},
     "output_type": "display_data"
    }
   ],
   "source": [
    "(factor(11^5*T^4+2*7*11^7*103*T^3+2*5*11^11*109*T^2-2^2*5*11^16*T+11^20))::Factored(Polynomial(Factored Z))"
   ]
  },
  {
   "cell_type": "markdown",
   "metadata": {},
   "source": [
    "The above polynomial agrees with the relation that Peter Paule has on his Slide 32 of hia talk at \"The 2016 International Number Theory Conference in honor of Krishna Alladi's 60th birthday\" (Gainesville, March 17-21, 2016)."
   ]
  },
  {
   "cell_type": "markdown",
   "metadata": {},
   "source": [
    "And now here with keeping the original tagging for $f$, i.e., in the next result, $Y=T y$."
   ]
  },
  {
   "cell_type": "code",
   "execution_count": 77,
   "metadata": {},
   "outputs": [
    {
     "name": "stdout",
     "output_type": "stream",
     "text": [
      "   4\n",
      "          2 2   3 3   4 4\n",
      "   [T y, T y , T y , T y ]\n"
     ]
    },
    {
     "data": {},
     "metadata": {},
     "output_type": "display_data"
    }
   ],
   "source": [
    "abp := algebraBasis(t, [t*xembed(first f, 'y)])$QEtaAlgebraBasis(C, X, QEtaExtendedComputation(C, L, X));\n",
    "#abp\n",
    "[second x for x in abp]"
   ]
  },
  {
   "cell_type": "code",
   "execution_count": 78,
   "metadata": {},
   "outputs": [
    {
     "name": "stdout",
     "output_type": "stream",
     "text": [
      "       12\n",
      "   [O(q  ),\n",
      "\n",
      "         4      4 4      4        4     8    3  3\n",
      "       11 (- 5)T y  + (11 (- 251)T  + 11 10 T )y\n",
      "     + \n",
      "          3         4     8        3     12       2  2\n",
      "       (11 (- 4093)T  + 11 (- 930)T  + 11  (- 10)T )y\n",
      "     + \n",
      "          4        4     7       3     12        2     16         5 5\n",
      "       (11 (- 123)T  + 11 15468 T  + 11  (- 170)T  + 11  5 T)y + F T\n",
      "     + \n",
      "         5      4     7         3     11         2     16         20\n",
      "       11 (- 1)T  + 11 (- 1442)T  + 11  (- 1090)T  + 11  20 T + 11  (- 1)\n",
      "     ]\n"
     ]
    },
    {
     "data": {},
     "metadata": {},
     "output_type": "display_data"
    }
   ],
   "source": [
    "rep := reduce(t^5*(f)^5, t, abp)"
   ]
  },
  {
   "cell_type": "code",
   "execution_count": 79,
   "metadata": {},
   "outputs": [
    {
     "name": "stdout",
     "output_type": "stream",
     "text": [
      "         4 4 4      4     4         8 3  3\n",
      "     5 11 T y  + (11 251 T  - 2 5 11 T )y\n",
      "   + \n",
      "        3      4           8    3         12 2  2\n",
      "     (11 4093 T  + 2 3 5 11 31 T  + 2 5 11  T )y\n",
      "   + \n",
      "          4    4    2    7      3         12    2       16       5 5     5 4\n",
      "     (3 11 41 T  - 2 3 11 1289 T  + 2 5 11  17 T  - 5 11  T)y - F T  + 11 T\n",
      "   + \n",
      "           7     3         11     2    2    16      20\n",
      "     2 7 11 103 T  + 2 5 11  109 T  - 2 5 11  T + 11\n"
     ]
    },
    {
     "data": {},
     "metadata": {},
     "output_type": "display_data"
    }
   ],
   "source": [
    "-(second rep)::PolQ::PolZ::Polynomial(Factored(Z))"
   ]
  },
  {
   "cell_type": "markdown",
   "metadata": {},
   "source": [
    "# Checking with PowerSamba"
   ]
  },
  {
   "cell_type": "code",
   "execution_count": 64,
   "metadata": {},
   "outputs": [
    {
     "name": "stdout",
     "output_type": "stream",
     "text": []
    },
    {
     "data": {},
     "metadata": {},
     "output_type": "display_data"
    }
   ],
   "source": [
    "QMEVS==>QEtaQuotientMonoidExponentVectorsStar\n",
    "eqmevs==>etaQuotientMonoidExponentVectors$QMEVS\n",
    "eqmevx==>etaQuotientMonoidExponentVectorsX$QMEVS\n",
    "lc ==> leadingCoefficient\n",
    "\n",
    "S ==> Symbol\n",
    "EZ ==> Expression Z\n",
    "expr x ==> x :: S :: EZ\n",
    "PL ==> PolynomialCategoryLifting(N, SingletonAsOrderedSet, C, PZ, PQ)\n",
    "LX ==> UnivariateLaurentSeries(CX, xsym, 0)\n",
    "EQX ==> EtaQuotientX(Q, mx, CX, xi, LX)\n",
    "EQXA ==> EtaQuotientExpansionAlgebra(CX, LX, level)\n",
    "\n",
    "PZ ==> SparseUnivariatePolynomial Z\n",
    "PQ ==> SparseUnivariatePolynomial Q\n",
    "Rec ==> Record(root: P, elem: PZ)\n",
    "\n",
    "unityroots(m: P): List P == (_\n",
    "  divs: List P := [qcoerce(delta)@P for delta in divisors m];_\n",
    "  rs := eqmevx m;_\n",
    "  l: List P := empty(); _\n",
    "  for r in rs repeat (_\n",
    "    e := etaQuotient(m, divs, r)$SymbolicEtaQuotient;_\n",
    "    l := cons(rootOfUnity e, l) _\n",
    "  );_\n",
    "  l_\n",
    ")"
   ]
  },
  {
   "cell_type": "code",
   "execution_count": 65,
   "metadata": {},
   "outputs": [
    {
     "name": "stdout",
     "output_type": "stream",
     "text": [
      "   22\n",
      "   2\n",
      "   x\n"
     ]
    },
    {
     "data": {},
     "metadata": {},
     "output_type": "display_data"
    }
   ],
   "source": [
    "m := level\n",
    "mx: P := lcm unityroots(m)\n",
    "xsym: Symbol := \"x\"::Symbol"
   ]
  },
  {
   "cell_type": "code",
   "execution_count": 66,
   "metadata": {},
   "outputs": [
    {
     "name": "stdout",
     "output_type": "stream",
     "text": [
      "   - 1\n"
     ]
    },
    {
     "data": {},
     "metadata": {},
     "output_type": "display_data"
    }
   ],
   "source": [
    "if mx > 2 then (_\n",
    "    pz: PZ := cyclotomic(mx)$CyclotomicPolynomialPackage;_\n",
    "    pq: PQ := map(n+->monomial(1$Q,1$N)$PQ, c+->c::Q::PQ, pz)$PL;_\n",
    "    CX := SimpleAlgebraicExtension(Q, PQ, pq);_\n",
    "    xi := generator()$CX_\n",
    ") else (_\n",
    "    CX := Q;_\n",
    "    xi := -1_\n",
    ")"
   ]
  },
  {
   "cell_type": "code",
   "execution_count": 67,
   "metadata": {},
   "outputs": [
    {
     "name": "stdout",
     "output_type": "stream",
     "text": [
      "   [1, 2, 11, 22]\n"
     ]
    },
    {
     "data": {},
     "metadata": {},
     "output_type": "display_data"
    }
   ],
   "source": [
    ")clear prop divs\n",
    "divs: List P := [qcoerce(d)@P for d in divisors m]"
   ]
  },
  {
   "cell_type": "code",
   "execution_count": 68,
   "metadata": {},
   "outputs": [
    {
     "name": "stdout",
     "output_type": "stream",
     "text": [
      "   [[- 7, 3, - 3, 7], [- 3, 7, - 7, 3], [3, - 7, 7, - 3], [7, - 3, 3, - 7],\n",
      "    [11, - 11, - 1, 1], [- 11, 11, 1, - 1]]\n"
     ]
    },
    {
     "data": {},
     "metadata": {},
     "output_type": "display_data"
    }
   ],
   "source": [
    "rs := eqmevx m"
   ]
  },
  {
   "cell_type": "code",
   "execution_count": 70,
   "metadata": {},
   "outputs": [
    {
     "name": "stdout",
     "output_type": "stream",
     "text": [
      "   [\n",
      "     [\n",
      "           1   - 5     7   - 4    17   - 3     7   - 2     1   - 1    21\n",
      "         ---- x    - ---- x    + ---- x    - ---- x    + ---- x    - ----\n",
      "         3872        3872        3872        1936        1936        3872\n",
      "       + \n",
      "          9       13   2    13   3    3   4     5   5      6\n",
      "         --- x + ---- x  - ---- x  - --- x  + ---- x  + O(x )\n",
      "         968     3872      1936      484      1936\n",
      "       ,\n",
      "\n",
      "            1     3       2   2    1   3    2   4    4   5    3   6    2   7\n",
      "         - --- - --- x - --- x  - --- x  - --- x  + --- x  + --- x  - --- x\n",
      "           121   121     121      121      121      121      121      121\n",
      "       + \n",
      "          9   8    5   9    1   10      11\n",
      "         --- x  + --- x  - --- x   + O(x  )\n",
      "         121      121      121\n",
      "       ,\n",
      "\n",
      "            1    3      7  2   1  3   35  4   35  5   133  6   245  7   441  8\n",
      "         - -- + -- x - -- x  + - x  - -- x  + -- x  - --- x  + --- x  - --- x\n",
      "           32   32     32      2      32      16       32       32       32\n",
      "       + \n",
      "         385  9   1311  10      11\n",
      "         --- x  - ---- x   + O(x  )\n",
      "          16       32\n",
      "       ,\n",
      "\n",
      "          5      6       7        8        9         10         11         12\n",
      "         x  + 7 x  + 32 x  + 119 x  + 385 x  + 1127 x   + 3057 x   + 7799 x\n",
      "       + \n",
      "                13          14          15      16\n",
      "         18914 x   + 43950 x   + 98434 x   + O(x  )\n",
      "       ]\n",
      "     ,\n",
      "\n",
      "     [\n",
      "         121   363     847  2   121  3   4235  4   4235  5   16093  6   29645  7\n",
      "         --- - --- x + --- x  - --- x  + ---- x  - ---- x  + ----- x  - ----- x\n",
      "          32    32      32       2        32        16         32         32\n",
      "       + \n",
      "         53361  8   46585  9   158631  10      11\n",
      "         ----- x  - ----- x  + ------ x   + O(x  )\n",
      "           32         16         32\n",
      "       ,\n",
      "\n",
      "                5        6         7          8          9           10\n",
      "         - 121 x  - 847 x  - 3872 x  - 14399 x  - 46585 x  - 136367 x\n",
      "       + \n",
      "                   11           12            13            14             15\n",
      "         - 369897 x   - 943679 x   - 2288594 x   - 5317950 x   - 11910514 x\n",
      "       + \n",
      "            16\n",
      "         O(x  )\n",
      "       ,\n",
      "\n",
      "            1  - 5    7  - 4   17  - 3    7  - 2    1  - 1   21   9     13  2\n",
      "         - -- x    + -- x    - -- x    + -- x    - -- x    + -- - - x - -- x\n",
      "           32        32        32        16        16        32   8     32\n",
      "       + \n",
      "         13  3   3  4    5  5      6\n",
      "         -- x  + - x  - -- x  + O(x )\n",
      "         16      4      16\n",
      "       ,\n",
      "\n",
      "                      2    3      4      5      6      7      8      9    10\n",
      "         1 + 3 x + 2 x  + x  + 2 x  - 4 x  - 3 x  + 2 x  - 9 x  - 5 x  + x\n",
      "       + \n",
      "            11\n",
      "         O(x  )\n",
      "       ]\n",
      "     ,\n",
      "\n",
      "     [\n",
      "          32    96      64  2    32  3    64  4   128  5    96  6    64  7\n",
      "         --- + --- x + --- x  + --- x  + --- x  - --- x  - --- x  + --- x\n",
      "         121   121     121      121      121      121      121      121\n",
      "       + \n",
      "           288  8   160  9    32  10      11\n",
      "         - --- x  - --- x  + --- x   + O(x  )\n",
      "           121      121      121\n",
      "       ,\n",
      "\n",
      "            1   - 5    7   - 4    17  - 3    14  - 2    2   - 1    21    36\n",
      "         - --- x    + --- x    - --- x    + --- x    - --- x    + --- - --- x\n",
      "           121        121        121        121        121        121   121\n",
      "       + \n",
      "            13  2    26  3    24  4    10  5      6\n",
      "         - --- x  + --- x  + --- x  - --- x  + O(x )\n",
      "           121      121      121      121\n",
      "       ,\n",
      "\n",
      "               5        6         7         8          9          10          11\n",
      "         - 32 x  - 224 x  - 1024 x  - 3808 x  - 12320 x  - 36064 x   - 97824 x\n",
      "       + \n",
      "                   12           13            14            15      16\n",
      "         - 249568 x   - 605248 x   - 1406400 x   - 3149888 x   + O(x  )\n",
      "       ,\n",
      "\n",
      "                      2       3       4       5        6        7        8\n",
      "         1 - 3 x + 7 x  - 16 x  + 35 x  - 70 x  + 133 x  - 245 x  + 441 x\n",
      "       + \n",
      "                9         10      11\n",
      "         - 770 x  + 1311 x   + O(x  )\n",
      "       ]\n",
      "     ,\n",
      "\n",
      "     [\n",
      "               5          6           7           8            9            10\n",
      "         3872 x  + 27104 x  + 123904 x  + 460768 x  + 1490720 x  + 4363744 x\n",
      "       + \n",
      "                   11             12             13              14\n",
      "         11836704 x   + 30197728 x   + 73235008 x   + 170174400 x\n",
      "       + \n",
      "                    15      16\n",
      "         381136448 x   + O(x  )\n",
      "       ,\n",
      "\n",
      "                              2         3         4         5          6\n",
      "         - 121 + 363 x - 847 x  + 1936 x  - 4235 x  + 8470 x  - 16093 x\n",
      "       + \n",
      "                7          8          9           10      11\n",
      "         29645 x  - 53361 x  + 93170 x  - 158631 x   + O(x  )\n",
      "       ,\n",
      "\n",
      "                           2       3       4        5       6       7        8\n",
      "         - 32 - 96 x - 64 x  - 32 x  - 64 x  + 128 x  + 96 x  - 64 x  + 288 x\n",
      "       + \n",
      "              9       10      11\n",
      "         160 x  - 32 x   + O(x  )\n",
      "       ,\n",
      "\n",
      "          - 5      - 4       - 3       - 2      - 1                   2       3\n",
      "         x    - 7 x    + 17 x    - 14 x    + 2 x    - 21 + 36 x + 13 x  - 26 x\n",
      "       + \n",
      "               4       5      6\n",
      "         - 24 x  + 10 x  + O(x )\n",
      "       ]\n",
      "     ,\n",
      "\n",
      "     [\n",
      "             5       6       8       9       10       11       12       13\n",
      "         32 x  - 32 x  - 32 x  + 32 x  - 32 x   + 32 x   - 32 x   + 64 x\n",
      "       + \n",
      "               14       15      16\n",
      "         - 64 x   + 64 x   + O(x  )\n",
      "       ,\n",
      "\n",
      "            - 5    - 4    - 3      - 2      - 1                2      3      4\n",
      "         - x    - x    - x    - 2 x    - 2 x    - 3 - 4 x - 5 x  - 6 x  - 8 x\n",
      "       + \n",
      "               5      6\n",
      "         - 10 x  + O(x )\n",
      "       ,\n",
      "\n",
      "                              2         3          4           5           6\n",
      "         - 32 - 352 x - 2112 x  - 9504 x  - 35904 x  - 119680 x  - 362912 x\n",
      "       + \n",
      "                    7            8            9             10      11\n",
      "         - 1021504 x  - 2705120 x  - 6806624 x  - 16395808 x   + O(x  )\n",
      "       ,\n",
      "\n",
      "                        2        3        4         5         6         7\n",
      "         1 - 11 x + 55 x  - 176 x  + 451 x  - 1078 x  + 2453 x  - 5181 x\n",
      "       + \n",
      "                8          9          10      11\n",
      "         10329 x  - 19954 x  + 37455 x   + O(x  )\n",
      "       ]\n",
      "     ,\n",
      "\n",
      "     [\n",
      "          1  - 5    1  - 4    1  - 3    1  - 2    1  - 1    3   1      5  2\n",
      "         -- x    + -- x    + -- x    + -- x    + -- x    + -- + - x + -- x\n",
      "         32        32        32        16        16        32   8     32\n",
      "       + \n",
      "          3  3   1  4    5  5      6\n",
      "         -- x  + - x  + -- x  + O(x )\n",
      "         16      4      16\n",
      "       ,\n",
      "         5    6    8    9    10    11    12      13      14      15      16\n",
      "      - x  + x  + x  - x  + x   - x   + x   - 2 x   + 2 x   - 2 x   + O(x  ),\n",
      "\n",
      "            1   11     55  2   11  3   451  4   539  5   2453  6   5181  7\n",
      "         - -- + -- x - -- x  + -- x  - --- x  + --- x  - ---- x  + ---- x\n",
      "           32   32     32       2       32       16       32        32\n",
      "       + \n",
      "           10329  8   9977  9   37455  10      11\n",
      "         - ----- x  + ---- x  - ----- x   + O(x  )\n",
      "             32        16         32\n",
      "       ,\n",
      "\n",
      "                        2        3         4         5          6          7\n",
      "         1 + 11 x + 66 x  + 297 x  + 1122 x  + 3740 x  + 11341 x  + 31922 x\n",
      "       + \n",
      "                8           9           10      11\n",
      "         84535 x  + 212707 x  + 512369 x   + O(x  )\n",
      "       ]\n",
      "     ]\n"
     ]
    },
    {
     "data": {},
     "metadata": {},
     "output_type": "display_data"
    }
   ],
   "source": [
    "lse := [etaQuotient(m, divs, r)$ SymbolicEtaQuotient for r in rs];\n",
    "le := [etaQuotient(e)$EQX for e in lse];\n",
    "-- [etaQuotient(divs, r)$ETA for r in rs]\n",
    "eas := [etaQuotient(r, expansions e)$EQXA for e in le for r in rs]"
   ]
  },
  {
   "cell_type": "code",
   "execution_count": 71,
   "metadata": {},
   "outputs": [
    {
     "name": "stdout",
     "output_type": "stream",
     "text": [
      "   [[5, 0, 0, - 5], [0, - 5, 5, 0], [0, 5, - 5, 0], [- 5, 0, 0, 5],\n",
      "    [- 5, 5, 0, 0], [5, - 5, 0, 0]]\n"
     ]
    },
    {
     "data": {},
     "metadata": {},
     "output_type": "display_data"
    }
   ],
   "source": [
    "grds := [qetaGrades  ea for ea in eas]"
   ]
  },
  {
   "cell_type": "code",
   "execution_count": 203,
   "metadata": {},
   "outputs": [
    {
     "name": "stdout",
     "output_type": "stream",
     "text": [
      "   [[7, - 3, 3, - 7], [- 4, 8, 4, - 8], [- 2, 6, 6, - 10], [- 1, 1, 11, - 11],\n",
      "    [0, 4, 8, - 12], [2, 2, 10, - 14], [4, 0, 12, - 16]]\n",
      "                                                    Type: List(List(Integer))\n"
     ]
    },
    {
     "data": {},
     "metadata": {},
     "output_type": "display_data"
    }
   ],
   "source": [
    "rgens := xetaQuotientMonoidExponentVectors level"
   ]
  },
  {
   "cell_type": "code",
   "execution_count": 211,
   "metadata": {},
   "outputs": [
    {
     "name": "stdout",
     "output_type": "stream",
     "text": [
      "                                              Type: List(SymbolicEtaQuotient)\n",
      "Type: List(EtaQuotientX(Fraction(Integer),2,Fraction(Integer),-1,UnivariateLaurentSeries(Fraction(Integer),x,0)))\n",
      "   [\n",
      "     [\n",
      "          121   - 10    121   - 9    121  - 8    605   - 7    1815  - 6\n",
      "         ----- x     - ----- x    + ---- x    - ----- x    + ----- x\n",
      "         32768         32768        8192        32768        32768\n",
      "       + \n",
      "            2299  - 5    5445  - 4    7139  - 3   15125  - 2   19965  - 1   9559\n",
      "         - ----- x    + ----- x    - ----- x    + ----- x    - ----- x    + ----\n",
      "           32768        32768        32768        32768        32768        8192\n",
      "       + \n",
      "            1\n",
      "         O(x )\n",
      "       ,\n",
      "\n",
      "                15        16         17         18          19          20\n",
      "         - 121 x   - 605 x   - 2299 x   - 7260 x   - 20449 x   - 52756 x\n",
      "       + \n",
      "                   21           22           23            24            25\n",
      "         - 127655 x   - 292699 x   - 642510 x   - 1358709 x   - 2782758 x\n",
      "       + \n",
      "            26\n",
      "         O(x  )\n",
      "       ,\n",
      "\n",
      "             1    - 5     29   - 4    201   - 3    3567  - 2   11485  - 1\n",
      "         - ----- x    + ----- x    - ----- x    + ----- x    - ----- x\n",
      "           32768        32768        16384        32768        16384\n",
      "       + \n",
      "         28971   484685     879251  2   5732019  3   17200625  4   48259969  5\n",
      "         ----- - ------ x + ------ x  - ------- x  + -------- x  - -------- x\n",
      "          8192    32768      16384       32768         32768         32768\n",
      "       + \n",
      "            6\n",
      "         O(x )\n",
      "       ,\n",
      "\n",
      "                         2         3          4           5           6\n",
      "         1 + 25 x + 321 x  + 2850 x  + 19802 x  + 115155 x  + 584108 x\n",
      "       + \n",
      "                  7             8             9              10      11\n",
      "         2656205 x  + 11040570 x  + 42547060 x  + 153675886 x   + O(x  )\n",
      "       ]\n",
      "     ]\n",
      "Type: List(EtaQuotientExpansionAlgebra(Fraction(Integer),UnivariateLaurentSeries(Fraction(Integer),x,0),22))\n"
     ]
    },
    {
     "data": {},
     "metadata": {},
     "output_type": "display_data"
    }
   ],
   "source": [
    "Mlse := [etaQuotient(m, divs, r)$ SymbolicEtaQuotient for r in rgens];\n",
    "Mle := [etaQuotient(e)$EQX for e in Mlse];\n",
    "-- [etaQuotient(divs, r)$ETA for r in rs]\n",
    "M := [etaQuotient(r, expansions e)$EQXA for e in Mle for r in rgens]"
   ]
  },
  {
   "cell_type": "code",
   "execution_count": 212,
   "metadata": {},
   "outputs": [
    {
     "name": "stdout",
     "output_type": "stream",
     "text": [
      "   [[10, - 15, 5, 0]]\n",
      "                                                    Type: List(List(Integer))\n"
     ]
    },
    {
     "data": {},
     "metadata": {},
     "output_type": "display_data"
    }
   ],
   "source": [
    "grds := [qetaGrades  ea for ea in M]"
   ]
  },
  {
   "cell_type": "code",
   "execution_count": 75,
   "metadata": {},
   "outputs": [
    {
     "name": "stdout",
     "output_type": "stream",
     "text": [
      "   +1   1   1   1   0   0   0  0+\n",
      "   |                            |\n",
      "   |1   2   11  22  24  0   0  0|\n",
      "   |                            |\n",
      "   |22  11  2   1   0   24  0  0|\n",
      "   |                            |\n",
      "   |0   1   0   1   0   0   2  0|\n",
      "   |                            |\n",
      "   +0   0   1   1   0   0   0  2+\n"
     ]
    },
    {
     "data": {},
     "metadata": {},
     "output_type": "display_data"
    }
   ],
   "source": [
    "mat:=matrix [[1, 1, 1, 1, 0, 0, 0, 0], [1, 2, 11, 22, 24, 0, 0, 0], [22, 11, 2, 1, 0, 24, 0, 0], [0, 1, 0, 1, 0, 0, 2, 0], [0, 0, 1, 1, 0, 0, 0, 2]]"
   ]
  },
  {
   "cell_type": "code",
   "execution_count": 145,
   "metadata": {},
   "outputs": [
    {
     "name": "stdout",
     "output_type": "stream",
     "text": [
      "                                                        Type: Matrix(Integer)\n"
     ]
    },
    {
     "data": {},
     "metadata": {},
     "output_type": "display_data"
    }
   ],
   "source": [
    "nmat := transpose matrix [members x for x in nullSpace mat];"
   ]
  },
  {
   "cell_type": "code",
   "execution_count": 144,
   "metadata": {},
   "outputs": [
    {
     "name": "stdout",
     "output_type": "stream",
     "text": [
      "                                                        Type: Matrix(Integer)\n"
     ]
    },
    {
     "data": {},
     "metadata": {},
     "output_type": "display_data"
    }
   ],
   "source": [
    "v := transpose matrix [[- 2, 6, 6, - 10,6,-1,2,2]];"
   ]
  },
  {
   "cell_type": "code",
   "execution_count": 163,
   "metadata": {},
   "outputs": [
    {
     "name": "stdout",
     "output_type": "stream",
     "text": [
      "              +1  3  0+          +0  0  0  2  0   5    5    8 +\n",
      "              |       |          |                            |\n",
      "              |0  5  0|          |0  0  0  0  0   0    1    0 |\n",
      "              |       |          |                            |\n",
      "              |0  0  1|          |0  0  0  0  1  - 1  - 1  - 2|\n",
      "              |       |          |                            |\n",
      "              |0  0  0|          |1  0  0  4  0  12    9   18 |\n",
      "   [Hermite = |       |, eqMat = |                            |]\n",
      "              |0  0  0|          |0  1  0  1  0   0    2    0 |\n",
      "              |       |          |                            |\n",
      "              |0  0  0|          |0  0  1  1  0   0    0    2 |\n",
      "              |       |          |                            |\n",
      "              |0  0  0|          |0  0  0  5  0  12   11   20 |\n",
      "              |       |          |                            |\n",
      "              +0  0  0+          +0  0  0  0  2  - 2  - 2  - 5+\n",
      "                Type: Record(Hermite: Matrix(Integer),eqMat: Matrix(Integer))\n"
     ]
    },
    {
     "data": {},
     "metadata": {},
     "output_type": "display_data"
    }
   ],
   "source": [
    "ch:=completeHermite(nmat)"
   ]
  },
  {
   "cell_type": "code",
   "execution_count": 173,
   "metadata": {},
   "outputs": [
    {
     "name": "stdout",
     "output_type": "stream",
     "text": [
      "   [1  2  1  0  0  0  0  0]\n",
      "                                                        Type: Matrix(Integer)\n"
     ]
    },
    {
     "data": {},
     "metadata": {},
     "output_type": "display_data"
    }
   ],
   "source": [
    "transpose(lv := ch.eqMat * v)"
   ]
  },
  {
   "cell_type": "code",
   "execution_count": 191,
   "metadata": {},
   "outputs": [
    {
     "name": "stdout",
     "output_type": "stream",
     "text": [
      "   +- 1+\n",
      "   |   |\n",
      "   | 2 |\n",
      "   |   |\n",
      "   + 5 +\n",
      "                                                        Type: Matrix(Integer)\n"
     ]
    },
    {
     "data": {},
     "metadata": {},
     "output_type": "display_data"
    }
   ],
   "source": [
    "lmat:Matrix(Z):=transpose matrix [[-1,2,5]]"
   ]
  },
  {
   "cell_type": "code",
   "execution_count": 192,
   "metadata": {},
   "outputs": [
    {
     "name": "stdout",
     "output_type": "stream",
     "text": [
      "   [5  10  5  0  0  0  0  0]\n",
      "                                                        Type: Matrix(Integer)\n"
     ]
    },
    {
     "data": {},
     "metadata": {},
     "output_type": "display_data"
    }
   ],
   "source": [
    "transpose(ch.Hermite*lmat)"
   ]
  },
  {
   "cell_type": "code",
   "execution_count": 188,
   "metadata": {},
   "outputs": [
    {
     "name": "stdout",
     "output_type": "stream",
     "text": [
      "   [5  10  5  0  0  0  0  0]\n",
      "                                                        Type: Matrix(Integer)\n"
     ]
    },
    {
     "data": {},
     "metadata": {},
     "output_type": "display_data"
    }
   ],
   "source": [
    "5*transpose lv"
   ]
  },
  {
   "cell_type": "code",
   "execution_count": 197,
   "metadata": {},
   "outputs": [
    {
     "name": "stdout",
     "output_type": "stream",
     "text": [
      "   +- 2 +\n",
      "   |    |\n",
      "   | 6  |\n",
      "   |    |\n",
      "   | 6  |\n",
      "   |    |\n",
      "   |- 10|\n",
      "   |    |\n",
      "   | 6  |\n",
      "   |    |\n",
      "   |- 1 |\n",
      "   |    |\n",
      "   | 2  |\n",
      "   |    |\n",
      "   + 2  +\n",
      "                                              Type: Matrix(Fraction(Integer))\n"
     ]
    },
    {
     "data": {},
     "metadata": {},
     "output_type": "display_data"
    }
   ],
   "source": [
    "1/5*nmat*lmat"
   ]
  },
  {
   "cell_type": "code",
   "execution_count": 198,
   "metadata": {},
   "outputs": [
    {
     "name": "stdout",
     "output_type": "stream",
     "text": [
      "   +1   1   1   1   0   0   0  0+\n",
      "   |                            |\n",
      "   |1   2   11  22  24  0   0  0|\n",
      "   |                            |\n",
      "   |22  11  2   1   0   24  0  0|\n",
      "   |                            |\n",
      "   |0   1   0   1   0   0   2  0|\n",
      "   |                            |\n",
      "   +0   0   1   1   0   0   0  2+\n",
      "                                             Type: Matrix(NonNegativeInteger)\n"
     ]
    },
    {
     "data": {},
     "metadata": {},
     "output_type": "display_data"
    }
   ],
   "source": [
    "mat"
   ]
  },
  {
   "cell_type": "code",
   "execution_count": 201,
   "metadata": {},
   "outputs": [
    {
     "name": "stdout",
     "output_type": "stream",
     "text": [
      "   [[11, - 1, - 11, 1], [24, 0, - 24, 0], [- 36, - 4, 40, 0]]\n",
      "                                                    Type: List(List(Integer))\n"
     ]
    },
    {
     "data": {},
     "metadata": {},
     "output_type": "display_data"
    }
   ],
   "source": [
    "rgens := [[11, -1, -11, 1], [24, 0, -24, 0], [-36, -4, 40, 0]]"
   ]
  },
  {
   "cell_type": "code",
   "execution_count": 204,
   "metadata": {},
   "outputs": [
    {
     "name": "stdout",
     "output_type": "stream",
     "text": [
      "   [[- 7, 3, - 3, 7], [- 3, 7, - 7, 3], [3, - 7, 7, - 3], [7, - 3, 3, - 7],\n",
      "    [11, - 11, - 1, 1], [- 11, 11, 1, - 1]]\n",
      "                                                    Type: List(List(Integer))\n"
     ]
    },
    {
     "data": {},
     "metadata": {},
     "output_type": "display_data"
    }
   ],
   "source": [
    "rs"
   ]
  },
  {
   "cell_type": "code",
   "execution_count": 206,
   "metadata": {},
   "outputs": [
    {
     "name": "stdout",
     "output_type": "stream",
     "text": [
      "   +1   1   1   1   0   0   0  0+\n",
      "   |                            |\n",
      "   |1   2   11  22  24  0   0  0|\n",
      "   |                            |\n",
      "   |22  11  2   1   0   24  0  0|\n",
      "   |                            |\n",
      "   |0   1   0   1   0   0   2  0|\n",
      "   |                            |\n",
      "   +0   0   1   1   0   0   0  2+\n",
      "                                                        Type: Matrix(Integer)\n"
     ]
    },
    {
     "data": {},
     "metadata": {},
     "output_type": "display_data"
    }
   ],
   "source": [
    "imat:Matrix Z := mat"
   ]
  },
  {
   "cell_type": "code",
   "execution_count": 213,
   "metadata": {},
   "outputs": [
    {
     "name": "stdout",
     "output_type": "stream",
     "text": [
      "   [[- 25, 29, - 5, 1], [- 12, 16, - 4, 0], [- 36, 40, - 4, 0]]\n",
      "                                                    Type: List(List(Integer))\n"
     ]
    },
    {
     "data": {},
     "metadata": {},
     "output_type": "display_data"
    }
   ],
   "source": [
    "rgens := [[-25,29,-5,1],[-12,16,-4,0],[-36,40,-4,0]]"
   ]
  },
  {
   "cell_type": "code",
   "execution_count": 214,
   "metadata": {},
   "outputs": [
    {
     "name": "stdout",
     "output_type": "stream",
     "text": [
      "   +- 25  29  - 5  1+\n",
      "   |                |\n",
      "   |- 12  16  - 4  0|\n",
      "   |                |\n",
      "   +- 36  40  - 4  0+\n",
      "                                                        Type: Matrix(Integer)\n"
     ]
    },
    {
     "data": {},
     "metadata": {},
     "output_type": "display_data"
    }
   ],
   "source": [
    "matrix rgens"
   ]
  },
  {
   "cell_type": "code",
   "execution_count": 219,
   "metadata": {},
   "outputs": [
    {
     "name": "stdout",
     "output_type": "stream",
     "text": [
      "   +  0     0      0  +\n",
      "   |                  |\n",
      "   |  0    - 24    0  |\n",
      "   |                  |\n",
      "   |- 240  - 96  - 360|\n",
      "   |                  |\n",
      "   | 30     16    40  |\n",
      "   |                  |\n",
      "   + - 4   - 4    - 4 +\n",
      "                                                        Type: Matrix(Integer)\n"
     ]
    },
    {
     "data": {},
     "metadata": {},
     "output_type": "display_data"
    }
   ],
   "source": [
    "imat(1..5,1..4)* transpose matrix rgens"
   ]
  },
  {
   "cell_type": "code",
   "execution_count": 1,
   "metadata": {},
   "outputs": [
    {
     "name": "stdout",
     "output_type": "stream",
     "text": [
      "   2\n",
      "                                                        Type: PositiveInteger\n"
     ]
    },
    {
     "data": {},
     "metadata": {},
     "output_type": "display_data"
    }
   ],
   "source": [
    "1+1"
   ]
  },
  {
   "cell_type": "code",
   "execution_count": 34,
   "metadata": {},
   "outputs": [
    {
     "name": "stdout",
     "output_type": "stream",
     "text": []
    },
    {
     "data": {},
     "metadata": {},
     "output_type": "display_data"
    }
   ],
   "source": [
    ")set mess type"
   ]
  },
  {
   "cell_type": "code",
   "execution_count": null,
   "metadata": {},
   "outputs": [],
   "source": []
  }
 ],
 "metadata": {
  "kernelspec": {
   "display_name": "SPAD",
   "language": "spad",
   "name": "spadkernel"
  },
  "language_info": {
   "file_extension": ".input",
   "mimetype": "text/plain",
   "name": "SPAD"
  }
 },
 "nbformat": 4,
 "nbformat_minor": 1
}
