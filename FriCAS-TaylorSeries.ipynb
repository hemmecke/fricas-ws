{
 "cells": [
  {
   "cell_type": "code",
   "execution_count": null,
   "metadata": {},
   "outputs": [],
   "source": [
    ")set output mathjax on"
   ]
  },
  {
   "cell_type": "code",
   "execution_count": 2,
   "metadata": {},
   "outputs": [
    {
     "name": "stdout",
     "output_type": "stream",
     "text": [
      "   TexFormat is now explicitly exposed in frame frame1 \n",
      "   TexFormat will be automatically loaded when needed from \n",
      "      /home/hemmecke/v/git/spad_http/TEX.NRLIB/TEX\n"
     ]
    },
    {
     "data": {},
     "metadata": {},
     "output_type": "display_data"
    }
   ],
   "source": [
    ")lib TEX\n",
    ")set output algebra off\n",
    ")set output tex on\n"
   ]
  },
  {
   "cell_type": "markdown",
   "metadata": {},
   "source": [
    "<p>This notebook is licenced under <a href=\"http://creativecommons.org/licenses/by-sa/3.0/\">CC BY-SA 3.0</a>.</p>\n",
    "<h1><span style=\"color: #0000ff;\">FriCAS Tutorial (Univariate and Multivariate Power Series)<br /></span></h1>\n",
    "<h2><span style=\"color: #0000ff;\">Ralf Hemmecke &lt;ralf@hemmecke.org&gt;<br /></span></h2>\n",
    "<h2>Univariate Taylor series</h2>\n",
    "<p>FriCAS can deal with power series in a simple manner.</p>"
   ]
  },
  {
   "cell_type": "code",
   "execution_count": 3,
   "metadata": {},
   "outputs": [
    {
     "data": {
      "text/latex": [
       "\\(\\def\\sp{^}\\def\\sb{_}\\def\\leqno(#1){}\\)\\(\\def\\erf\\{\\mathrm{erf}}\\def\\sinh{\\mathrm{sinh}}\\)\\(\\def\\zag#1#2{{{ \\left.{#1}\\right|}\\over{\\left|{#2}\\right.}}}\\)\\(\\require{color}\\)$$\n",
       "{\\color{black} \\normalsize \n",
       "x+\\frac{1}{6}\\,{x}^{3}+\\frac{1}{120}\\,{x}^{5}+\\frac{1}{5040}\\,{x}^{7}+\\frac{1}{362880}\\,{x}^{9}+\\mathit{O}\\left({x}^{11}\\right)\n",
       "} \\\\[0.9ex] {\\color{blue} \\scriptsize \\text{UnivariateTaylorSeries(Expression(Integer),x,0)}} \\\\\n",
       "$$"
      ]
     },
     "metadata": {},
     "output_type": "display_data"
    }
   ],
   "source": [
    "x := taylor 'x;\n",
    "sinh x"
   ]
  },
  {
   "cell_type": "markdown",
   "metadata": {},
   "source": [
    "<p>However, sometimes one wants to be more precise with the domain\n",
    "   that the object lives in. If, for example, we don't want power\n",
    "   series over the general expression domain as exemplified above,\n",
    "   we can give the coefficient domain explicitly.\n",
    "</p>"
   ]
  },
  {
   "cell_type": "code",
   "execution_count": 4,
   "metadata": {},
   "outputs": [
    {
     "data": {
      "text/latex": [
       "\\(\\def\\sp{^}\\def\\sb{_}\\def\\leqno(#1){}\\)\\(\\def\\erf\\{\\mathrm{erf}}\\def\\sinh{\\mathrm{sinh}}\\)\\(\\def\\zag#1#2{{{ \\left.{#1}\\right|}\\over{\\left|{#2}\\right.}}}\\)\\(\\require{color}\\)$$\n",
       "{\\color{black} \\normalsize \n",
       "x+\\frac{1}{6}\\,{x}^{3}+\\frac{1}{120}\\,{x}^{5}+\\frac{1}{5040}\\,{x}^{7}+\\frac{1}{362880}\\,{x}^{9}+\\mathit{O}\\left({x}^{11}\\right)\n",
       "} \\\\[0.9ex] {\\color{blue} \\scriptsize \\text{UnivariateTaylorSeries(Fraction(Integer),x,0)}} \\\\\n",
       "$$"
      ]
     },
     "metadata": {},
     "output_type": "display_data"
    }
   ],
   "source": [
    "Z ==> Integer;\n",
    "Q ==> Fraction Z;\n",
    "Ux ==> UnivariateTaylorSeries(Q, 'x, 0);\n",
    "ux: Ux := 'x;\n",
    "sinh(ux)"
   ]
  },
  {
   "cell_type": "markdown",
   "metadata": {},
   "source": [
    "## Combination of univariate Taylor series\n",
    "\n",
    "The FriCAS interpreter is smart enough to create an appropriate\n",
    "type if two univariate Taylor series interact.\n",
    "\n",
    "However, as seen below, the resulting domain is something like\n",
    "$Q[[x]][[y]]$,\n",
    "i.e., univariate power series in y with coefficients that are\n",
    "univariate power series in x that have rational coefficients.\n"
   ]
  },
  {
   "cell_type": "code",
   "execution_count": 5,
   "metadata": {},
   "outputs": [
    {
     "data": {
      "text/latex": [
       "\\(\\def\\sp{^}\\def\\sb{_}\\def\\leqno(#1){}\\)\\(\\def\\erf\\{\\mathrm{erf}}\\def\\sinh{\\mathrm{sinh}}\\)\\(\\def\\zag#1#2{{{ \\left.{#1}\\right|}\\over{\\left|{#2}\\right.}}}\\)\\(\\require{color}\\)$$\n",
       "{\\color{black} \\normalsize \n",
       "1+\\frac{1}{2}\\,{y}^{2}+\\frac{1}{24}\\,{y}^{4}+\\frac{1}{720}\\,{y}^{6}+\\frac{1}{40320}\\,{y}^{8}+\\frac{1}{3628800}\\,{y}^{10}+\\mathit{O}\\left({y}^{11}\\right)\n",
       "} \\\\[0.9ex] {\\color{blue} \\scriptsize \\text{UnivariateTaylorSeries(Fraction(Integer),y,0)}} \\\\\n",
       "$$"
      ]
     },
     "metadata": {},
     "output_type": "display_data"
    }
   ],
   "source": [
    "Uy ==> UnivariateTaylorSeries(Q, 'y, 0);\n",
    "uy: Uy := 'y;\n",
    "cosh(uy)"
   ]
  },
  {
   "cell_type": "code",
   "execution_count": 6,
   "metadata": {},
   "outputs": [
    {
     "data": {
      "text/latex": [
       "\\(\\def\\sp{^}\\def\\sb{_}\\def\\leqno(#1){}\\)\\(\\def\\erf\\{\\mathrm{erf}}\\def\\sinh{\\mathrm{sinh}}\\)\\(\\def\\zag#1#2{{{ \\left.{#1}\\right|}\\over{\\left|{#2}\\right.}}}\\)\\(\\require{color}\\)$$\n",
       "{\\color{black} \\normalsize \n",
       "x+\\frac{1}{6}\\,{x}^{3}+\\frac{1}{120}\\,{x}^{5}+\\frac{1}{5040}\\,{x}^{7}+\\frac{1}{362880}\\,{x}^{9}+\\mathit{O}\\left({x}^{11}\\right)+\\left(\\frac{1}{2}\\,x+\\frac{1}{12}\\,{x}^{3}+\\frac{1}{240}\\,{x}^{5}+\\frac{1}{10080}\\,{x}^{7}+\\frac{1}{725760}\\,{x}^{9}+\\mathit{O}\\left({x}^{11}\\right)\\right)\\,{y}^{2}+\\left(\\frac{1}{24}\\,x+\\frac{1}{144}\\,{x}^{3}+\\frac{1}{2880}\\,{x}^{5}+\\frac{1}{120960}\\,{x}^{7}+\\frac{1}{8709120}\\,{x}^{9}+\\mathit{O}\\left({x}^{11}\\right)\\right)\\,{y}^{4}+\\left(\\frac{1}{720}\\,x+\\frac{1}{4320}\\,{x}^{3}+\\frac{1}{86400}\\,{x}^{5}+\\frac{1}{3628800}\\,{x}^{7}+\\frac{1}{261273600}\\,{x}^{9}+\\mathit{O}\\left({x}^{11}\\right)\\right)\\,{y}^{6}+\\left(\\frac{1}{40320}\\,x+\\frac{1}{241920}\\,{x}^{3}+\\frac{1}{4838400}\\,{x}^{5}+\\frac{1}{203212800}\\,{x}^{7}+\\frac{1}{14631321600}\\,{x}^{9}+\\mathit{O}\\left({x}^{11}\\right)\\right)\\,{y}^{8}+\\left(\\frac{1}{3628800}\\,x+\\frac{1}{21772800}\\,{x}^{3}+\\frac{1}{435456000}\\,{x}^{5}+\\frac{1}{18289152000}\\,{x}^{7}+\\frac{1}{1316818944000}\\,{x}^{9}+\\mathit{O}\\left({x}^{11}\\right)\\right)\\,{y}^{10}+\\mathit{O}\\left({y}^{11}\\right)\n",
       "} \\\\[0.9ex] {\\color{blue} \\scriptsize \\text{UnivariateTaylorSeries(UnivariateTaylorSeries(Fraction(Integer),x,0),y,0)}} \\\\\n",
       "$$"
      ]
     },
     "metadata": {},
     "output_type": "display_data"
    }
   ],
   "source": [
    "sinh(ux)*cosh(uy)"
   ]
  },
  {
   "cell_type": "markdown",
   "metadata": {},
   "source": [
    "As a general rule, the FriCAS interpreter tries to find\n",
    "a \"better coefficient domain\" if something does not fit\n",
    "into the type of the current object in order to construct\n",
    "a more general domain that can hold the result of the operation.\n",
    "\n",
    "In the case above that is probably not what we expected or wanted.\n",
    "\n",
    "##  Multivariate Taylor series in infinitely many variables\n",
    "\n",
    "There is a domain in FriCAS that is similar to the `Polynomial(Q)` domain.\n",
    "`TaylorSeries(Q)` is the domain of power series over 'Q' in infinitely\n",
    "many variables.\n",
    "\n",
    "With that domain the input is as simple as for univariate power series.\n"
   ]
  },
  {
   "cell_type": "code",
   "execution_count": 7,
   "metadata": {},
   "outputs": [
    {
     "data": {
      "text/latex": [
       "\\(\\def\\sp{^}\\def\\sb{_}\\def\\leqno(#1){}\\)\\(\\def\\erf\\{\\mathrm{erf}}\\def\\sinh{\\mathrm{sinh}}\\)\\(\\def\\zag#1#2{{{ \\left.{#1}\\right|}\\over{\\left|{#2}\\right.}}}\\)\\(\\require{color}\\)$$\n",
       "{\\color{black} \\normalsize \n",
       "x+\\left(\\frac{1}{2}\\,x\\,{y}^{2}+\\frac{1}{6}\\,{x}^{3}\\right)+\\left(\\frac{1}{24}\\,x\\,{y}^{4}+\\frac{1}{12}\\,{x}^{3}\\,{y}^{2}+\\frac{1}{120}\\,{x}^{5}\\right)+\\left(\\frac{1}{720}\\,x\\,{y}^{6}+\\frac{1}{144}\\,{x}^{3}\\,{y}^{4}+\\frac{1}{240}\\,{x}^{5}\\,{y}^{2}+\\frac{1}{5040}\\,{x}^{7}\\right)+\\left(\\frac{1}{40320}\\,x\\,{y}^{8}+\\frac{1}{4320}\\,{x}^{3}\\,{y}^{6}+\\frac{1}{2880}\\,{x}^{5}\\,{y}^{4}+\\frac{1}{10080}\\,{x}^{7}\\,{y}^{2}+\\frac{1}{362880}\\,{x}^{9}\\right)+\\mathit{O}\\left(11\\right)\n",
       "} \\\\[0.9ex] {\\color{blue} \\scriptsize \\text{TaylorSeries(Fraction(Integer))}} \\\\\n",
       "$$"
      ]
     },
     "metadata": {},
     "output_type": "display_data"
    }
   ],
   "source": [
    "T ==> TaylorSeries Q;\n",
    "tx:T := 'x;\n",
    "ty:T := 'y;\n",
    "sinh(tx)*cosh(ty)"
   ]
  },
  {
   "cell_type": "markdown",
   "metadata": {},
   "source": [
    "## Multivariate !TaylorSeries in two variables\n",
    "\n",
    "FriCAS allows to be more precise with multivariate power series.\n",
    "It is possible to create multivariate power series in a given\n",
    "number of variables. Such a construction is, however, a bit more\n",
    "involved.\n",
    "\n",
    "The domain (named `M` below') is modelled as a univariate power series\n",
    "over bivariate polynomials where the n-th coefficient of the series is\n",
    "the polynomial consisting of all (bivariate) terms of degree $n$.\n",
    "\n",
    "Thus we first have to create a bivariate polynomial domain.\n",
    "From this construction, it should be clear how to create multivariate\n",
    "series in three or more variables."
   ]
  },
  {
   "cell_type": "code",
   "execution_count": 8,
   "metadata": {},
   "outputs": [
    {
     "data": {
      "text/latex": [
       "\\(\\def\\sp{^}\\def\\sb{_}\\def\\leqno(#1){}\\)\\(\\def\\erf\\{\\mathrm{erf}}\\def\\sinh{\\mathrm{sinh}}\\)\\(\\def\\zag#1#2{{{ \\left.{#1}\\right|}\\over{\\left|{#2}\\right.}}}\\)\\(\\require{color}\\)$$\n",
       "{\\color{black} \\normalsize \n",
       "x+\\left(\\frac{1}{6}\\,{x}^{3}+\\frac{1}{2}\\,{y}^{2}\\,x\\right)+\\left(\\frac{1}{120}\\,{x}^{5}+\\frac{1}{12}\\,{y}^{2}\\,{x}^{3}+\\frac{1}{24}\\,{y}^{4}\\,x\\right)+\\left(\\frac{1}{5040}\\,{x}^{7}+\\frac{1}{240}\\,{y}^{2}\\,{x}^{5}+\\frac{1}{144}\\,{y}^{4}\\,{x}^{3}+\\frac{1}{720}\\,{y}^{6}\\,x\\right)+\\left(\\frac{1}{362880}\\,{x}^{9}+\\frac{1}{10080}\\,{y}^{2}\\,{x}^{7}+\\frac{1}{2880}\\,{y}^{4}\\,{x}^{5}+\\frac{1}{4320}\\,{y}^{6}\\,{x}^{3}+\\frac{1}{40320}\\,{y}^{8}\\,x\\right)+\\mathit{O}\\left(11\\right)\n",
       "} \\\\[0.9ex] {\\color{blue} \\scriptsize \\text{SparseMultivariateTaylorSeries(Fraction(Integer),OrderedVariableList([x,y]),SparseMultivariatePolynomial(Fraction(Integer),OrderedVariableList([x,y])))}} \\\\\n",
       "$$"
      ]
     },
     "metadata": {},
     "output_type": "display_data"
    }
   ],
   "source": [
    "vl: List Symbol := ['x, 'y];\n",
    "V ==> OrderedVariableList vl;\n",
    "P ==> SparseMultivariatePolynomial(Q, V);\n",
    "M ==> SparseMultivariateTaylorSeries(Q, V, P);\n",
    "X: M := monomial(1$M, 'x, 1);\n",
    "Y: M := monomial(1$M, 'y, 1);\n",
    "sinh(X)*cosh(Y)"
   ]
  },
  {
   "cell_type": "markdown",
   "metadata": {},
   "source": [
    "## Multivariate Taylor series with unknown coefficients\n",
    "\n",
    "We want to generate taylor series with unknown coefficients."
   ]
  },
  {
   "cell_type": "code",
   "execution_count": 9,
   "metadata": {},
   "outputs": [
    {
     "name": "stdout",
     "output_type": "stream",
     "text": [
      "   All user variables and function definitions have been cleared.\n",
      "   All )browse facility databases have been cleared.\n",
      "   Internally cached functions and constructors have been cleared.\n",
      "   )clear completely is finished.\n"
     ]
    },
    {
     "data": {
      "text/latex": [
       "\\(\\def\\sp{^}\\def\\sb{_}\\def\\leqno(#1){}\\)\\(\\def\\erf\\{\\mathrm{erf}}\\def\\sinh{\\mathrm{sinh}}\\)\\(\\def\\zag#1#2{{{ \\left.{#1}\\right|}\\over{\\left|{#2}\\right.}}}\\)\\(\\require{color}\\)$$\n",
       "{\\color{black} \\normalsize } \\\\[0.9ex] {\\color{blue} \\scriptsize \\text{}} \\\\\n",
       "$$"
      ]
     },
     "metadata": {},
     "output_type": "display_data"
    }
   ],
   "source": [
    ")clear completely"
   ]
  },
  {
   "cell_type": "code",
   "execution_count": 10,
   "metadata": {},
   "outputs": [
    {
     "data": {
      "text/latex": [
       "\\(\\def\\sp{^}\\def\\sb{_}\\def\\leqno(#1){}\\)\\(\\def\\erf\\{\\mathrm{erf}}\\def\\sinh{\\mathrm{sinh}}\\)\\(\\def\\zag#1#2{{{ \\left.{#1}\\right|}\\over{\\left|{#2}\\right.}}}\\)\\(\\require{color}\\)$$\n",
       "{\\color{black} \\normalsize } \\\\[0.9ex] {\\color{blue} \\scriptsize \\text{SparseMultivariateTaylorSeries(Expression(Integer),OrderedVariableList([x,y]),SparseMultivariatePolynomial(Expression(Integer),OrderedVariableList([x,y])))}} \\\\\n",
       "$$"
      ]
     },
     "metadata": {},
     "output_type": "display_data"
    }
   ],
   "source": [
    "vl: List Symbol := ['x, 'y];\n",
    "V ==> OrderedVariableList vl\n",
    "Q ==> Expression Integer\n",
    "P ==> SparseMultivariatePolynomial(Q, V)\n",
    "M ==> SparseMultivariateTaylorSeries(Q, V, P)\n",
    "X: M := monomial(1$M, 'x, 1);\n",
    "Y: M := monomial(1$M, 'y, 1);"
   ]
  },
  {
   "cell_type": "code",
   "execution_count": 11,
   "metadata": {},
   "outputs": [
    {
     "data": {
      "text/latex": [
       "\\(\\def\\sp{^}\\def\\sb{_}\\def\\leqno(#1){}\\)\\(\\def\\erf\\{\\mathrm{erf}}\\def\\sinh{\\mathrm{sinh}}\\)\\(\\def\\zag#1#2{{{ \\left.{#1}\\right|}\\over{\\left|{#2}\\right.}}}\\)\\(\\require{color}\\)$$\n",
       "{\\color{black} \\normalsize \n",
       "1+x+{x}^{2}+{x}^{3}+{x}^{4}+{x}^{5}+{x}^{6}+{x}^{7}+{x}^{8}+{x}^{9}+{x}^{10}+\\mathit{O}\\left(11\\right)\n",
       "} \\\\[0.9ex] {\\color{blue} \\scriptsize \\text{SparseMultivariateTaylorSeries(Expression(Integer),OrderedVariableList([x,y]),SparseMultivariatePolynomial(Expression(Integer),OrderedVariableList([x,y])))}} \\\\\n",
       "$$"
      ]
     },
     "metadata": {},
     "output_type": "display_data"
    }
   ],
   "source": [
    "sx:M := recip(1-X)"
   ]
  },
  {
   "cell_type": "code",
   "execution_count": 12,
   "metadata": {},
   "outputs": [
    {
     "data": {
      "text/latex": [
       "\\(\\def\\sp{^}\\def\\sb{_}\\def\\leqno(#1){}\\)\\(\\def\\erf\\{\\mathrm{erf}}\\def\\sinh{\\mathrm{sinh}}\\)\\(\\def\\zag#1#2{{{ \\left.{#1}\\right|}\\over{\\left|{#2}\\right.}}}\\)\\(\\require{color}\\)$$\n",
       "{\\color{black} \\normalsize \n",
       "1+y+{y}^{2}+{y}^{3}+{y}^{4}+{y}^{5}+{y}^{6}+{y}^{7}+{y}^{8}+{y}^{9}+{y}^{10}+\\mathit{O}\\left(11\\right)\n",
       "} \\\\[0.9ex] {\\color{blue} \\scriptsize \\text{SparseMultivariateTaylorSeries(Expression(Integer),OrderedVariableList([x,y]),SparseMultivariatePolynomial(Expression(Integer),OrderedVariableList([x,y])))}} \\\\\n",
       "$$"
      ]
     },
     "metadata": {},
     "output_type": "display_data"
    }
   ],
   "source": [
    "sy:M := recip(1-Y)"
   ]
  },
  {
   "cell_type": "code",
   "execution_count": 13,
   "metadata": {},
   "outputs": [
    {
     "data": {
      "text/latex": [
       "\\(\\def\\sp{^}\\def\\sb{_}\\def\\leqno(#1){}\\)\\(\\def\\erf\\{\\mathrm{erf}}\\def\\sinh{\\mathrm{sinh}}\\)\\(\\def\\zag#1#2{{{ \\left.{#1}\\right|}\\over{\\left|{#2}\\right.}}}\\)\\(\\require{color}\\)$$\n",
       "{\\color{black} \\normalsize \n",
       "1+\\left(x+y\\right)+\\left({x}^{2}+y\\,x+{y}^{2}\\right)+\\left({x}^{3}+y\\,{x}^{2}+{y}^{2}\\,x+{y}^{3}\\right)+\\left({x}^{4}+y\\,{x}^{3}+{y}^{2}\\,{x}^{2}+{y}^{3}\\,x+{y}^{4}\\right)+\\left({x}^{5}+y\\,{x}^{4}+{y}^{2}\\,{x}^{3}+{y}^{3}\\,{x}^{2}+{y}^{4}\\,x+{y}^{5}\\right)+\\left({x}^{6}+y\\,{x}^{5}+{y}^{2}\\,{x}^{4}+{y}^{3}\\,{x}^{3}+{y}^{4}\\,{x}^{2}+{y}^{5}\\,x+{y}^{6}\\right)+\\left({x}^{7}+y\\,{x}^{6}+{y}^{2}\\,{x}^{5}+{y}^{3}\\,{x}^{4}+{y}^{4}\\,{x}^{3}+{y}^{5}\\,{x}^{2}+{y}^{6}\\,x+{y}^{7}\\right)+\\left({x}^{8}+y\\,{x}^{7}+{y}^{2}\\,{x}^{6}+{y}^{3}\\,{x}^{5}+{y}^{4}\\,{x}^{4}+{y}^{5}\\,{x}^{3}+{y}^{6}\\,{x}^{2}+{y}^{7}\\,x+{y}^{8}\\right)+\\left({x}^{9}+y\\,{x}^{8}+{y}^{2}\\,{x}^{7}+{y}^{3}\\,{x}^{6}+{y}^{4}\\,{x}^{5}+{y}^{5}\\,{x}^{4}+{y}^{6}\\,{x}^{3}+{y}^{7}\\,{x}^{2}+{y}^{8}\\,x+{y}^{9}\\right)+\\left({x}^{10}+y\\,{x}^{9}+{y}^{2}\\,{x}^{8}+{y}^{3}\\,{x}^{7}+{y}^{4}\\,{x}^{6}+{y}^{5}\\,{x}^{5}+{y}^{6}\\,{x}^{4}+{y}^{7}\\,{x}^{3}+{y}^{8}\\,{x}^{2}+{y}^{9}\\,x+{y}^{10}\\right)+\\mathit{O}\\left(11\\right)\n",
       "} \\\\[0.9ex] {\\color{blue} \\scriptsize \\text{SparseMultivariateTaylorSeries(Expression(Integer),OrderedVariableList([x,y]),SparseMultivariatePolynomial(Expression(Integer),OrderedVariableList([x,y])))}} \\\\\n",
       "$$"
      ]
     },
     "metadata": {},
     "output_type": "display_data"
    }
   ],
   "source": [
    "s1 := sx*sy"
   ]
  },
  {
   "cell_type": "markdown",
   "metadata": {},
   "source": [
    "Unfortunately, there seems to be no way to easily create such series\n",
    "without using the keyword `pretend`."
   ]
  },
  {
   "cell_type": "code",
   "execution_count": 14,
   "metadata": {},
   "outputs": [
    {
     "data": {
      "text/latex": [
       "\\(\\def\\sp{^}\\def\\sb{_}\\def\\leqno(#1){}\\)\\(\\def\\erf\\{\\mathrm{erf}}\\def\\sinh{\\mathrm{sinh}}\\)\\(\\def\\zag#1#2{{{ \\left.{#1}\\right|}\\over{\\left|{#2}\\right.}}}\\)\\(\\require{color}\\)$$\n",
       "{\\color{black} \\normalsize } \\\\[0.9ex] {\\color{blue} \\scriptsize \\text{Symbol}} \\\\\n",
       "$$"
      ]
     },
     "metadata": {},
     "output_type": "display_data"
    }
   ],
   "source": [
    "a: Symbol := 'a;"
   ]
  },
  {
   "cell_type": "code",
   "execution_count": 15,
   "metadata": {},
   "outputs": [
    {
     "name": "stdout",
     "output_type": "stream",
     "text": [
      "   Function declaration fp : SparseMultivariatePolynomial(Expression(\n",
      "      Integer),OrderedVariableList([x,y])) -> \n",
      "      SparseMultivariatePolynomial(Expression(Integer),\n",
      "      OrderedVariableList([x,y])) has been added to workspace.\n"
     ]
    },
    {
     "data": {
      "text/latex": [
       "\\(\\def\\sp{^}\\def\\sb{_}\\def\\leqno(#1){}\\)\\(\\def\\erf\\{\\mathrm{erf}}\\def\\sinh{\\mathrm{sinh}}\\)\\(\\def\\zag#1#2{{{ \\left.{#1}\\right|}\\over{\\left|{#2}\\right.}}}\\)\\(\\require{color}\\)$$\n",
       "{\\color{black} \\normalsize } \\\\[0.9ex] {\\color{blue} \\scriptsize \\text{Void}} \\\\\n",
       "$$"
      ]
     },
     "metadata": {},
     "output_type": "display_data"
    }
   ],
   "source": [
    "fp(p:P):P == (pp:P := 0; e:=enumerate()$V; for m in monomials p repeat (l:=degree(m,e); pp := pp + elt(a,l)*m);pp)"
   ]
  },
  {
   "cell_type": "code",
   "execution_count": 16,
   "metadata": {},
   "outputs": [
    {
     "data": {
      "text/latex": [
       "\\(\\def\\sp{^}\\def\\sb{_}\\def\\leqno(#1){}\\)\\(\\def\\erf\\{\\mathrm{erf}}\\def\\sinh{\\mathrm{sinh}}\\)\\(\\def\\zag#1#2{{{ \\left.{#1}\\right|}\\over{\\left|{#2}\\right.}}}\\)\\(\\require{color}\\)$$\n",
       "{\\color{black} \\normalsize \n",
       "\\left[1, x+y, {x}^{2}+y\\,x+{y}^{2}, {x}^{3}+y\\,{x}^{2}+{y}^{2}\\,x+{y}^{3}, {x}^{4}+y\\,{x}^{3}+{y}^{2}\\,{x}^{2}+{y}^{3}\\,x+{y}^{4}, {x}^{5}+y\\,{x}^{4}+{y}^{2}\\,{x}^{3}+{y}^{3}\\,{x}^{2}+{y}^{4}\\,x+{y}^{5}, {x}^{6}+y\\,{x}^{5}+{y}^{2}\\,{x}^{4}+{y}^{3}\\,{x}^{3}+{y}^{4}\\,{x}^{2}+{y}^{5}\\,x+{y}^{6}, {x}^{7}+y\\,{x}^{6}+{y}^{2}\\,{x}^{5}+{y}^{3}\\,{x}^{4}+{y}^{4}\\,{x}^{3}+{y}^{5}\\,{x}^{2}+{y}^{6}\\,x+{y}^{7}, {x}^{8}+y\\,{x}^{7}+{y}^{2}\\,{x}^{6}+{y}^{3}\\,{x}^{5}+{y}^{4}\\,{x}^{4}+{y}^{5}\\,{x}^{3}+{y}^{6}\\,{x}^{2}+{y}^{7}\\,x+{y}^{8}, {x}^{9}+y\\,{x}^{8}+{y}^{2}\\,{x}^{7}+{y}^{3}\\,{x}^{6}+{y}^{4}\\,{x}^{5}+{y}^{5}\\,{x}^{4}+{y}^{6}\\,{x}^{3}+{y}^{7}\\,{x}^{2}+{y}^{8}\\,x+{y}^{9}, ...\\right]\n",
       "} \\\\[0.9ex] {\\color{blue} \\scriptsize \\text{Stream(SparseMultivariatePolynomial(Expression(Integer),OrderedVariableList([x,y])))}} \\\\\n",
       "$$"
      ]
     },
     "metadata": {},
     "output_type": "display_data"
    }
   ],
   "source": [
    "st1: Stream P := s1 pretend Stream P"
   ]
  },
  {
   "cell_type": "code",
   "execution_count": 17,
   "metadata": {
    "scrolled": true
   },
   "outputs": [
    {
     "name": "stdout",
     "output_type": "stream",
     "text": [
      "   Compiling function fp with type SparseMultivariatePolynomial(\n",
      "      Expression(Integer),OrderedVariableList([x,y])) -> \n",
      "      SparseMultivariatePolynomial(Expression(Integer),\n",
      "      OrderedVariableList([x,y])) \n"
     ]
    },
    {
     "data": {
      "text/latex": [
       "\\(\\def\\sp{^}\\def\\sb{_}\\def\\leqno(#1){}\\)\\(\\def\\erf\\{\\mathrm{erf}}\\def\\sinh{\\mathrm{sinh}}\\)\\(\\def\\zag#1#2{{{ \\left.{#1}\\right|}\\over{\\left|{#2}\\right.}}}\\)\\(\\require{color}\\)$$\n",
       "{\\color{black} \\normalsize \n",
       "\\left[{a}_{0, 0}, {a}_{1, 0}\\,x+{a}_{0, 1}\\,y, {a}_{2, 0}\\,{x}^{2}+{a}_{1, 1}\\,y\\,x+{a}_{0, 2}\\,{y}^{2}, {a}_{3, 0}\\,{x}^{3}+{a}_{2, 1}\\,y\\,{x}^{2}+{a}_{1, 2}\\,{y}^{2}\\,x+{a}_{0, 3}\\,{y}^{3}, {a}_{4, 0}\\,{x}^{4}+{a}_{3, 1}\\,y\\,{x}^{3}+{a}_{2, 2}\\,{y}^{2}\\,{x}^{2}+{a}_{1, 3}\\,{y}^{3}\\,x+{a}_{0, 4}\\,{y}^{4}, {a}_{5, 0}\\,{x}^{5}+{a}_{4, 1}\\,y\\,{x}^{4}+{a}_{3, 2}\\,{y}^{2}\\,{x}^{3}+{a}_{2, 3}\\,{y}^{3}\\,{x}^{2}+{a}_{1, 4}\\,{y}^{4}\\,x+{a}_{0, 5}\\,{y}^{5}, {a}_{6, 0}\\,{x}^{6}+{a}_{5, 1}\\,y\\,{x}^{5}+{a}_{4, 2}\\,{y}^{2}\\,{x}^{4}+{a}_{3, 3}\\,{y}^{3}\\,{x}^{3}+{a}_{2, 4}\\,{y}^{4}\\,{x}^{2}+{a}_{1, 5}\\,{y}^{5}\\,x+{a}_{0, 6}\\,{y}^{6}, {a}_{7, 0}\\,{x}^{7}+{a}_{6, 1}\\,y\\,{x}^{6}+{a}_{5, 2}\\,{y}^{2}\\,{x}^{5}+{a}_{4, 3}\\,{y}^{3}\\,{x}^{4}+{a}_{3, 4}\\,{y}^{4}\\,{x}^{3}+{a}_{2, 5}\\,{y}^{5}\\,{x}^{2}+{a}_{1, 6}\\,{y}^{6}\\,x+{a}_{0, 7}\\,{y}^{7}, {a}_{8, 0}\\,{x}^{8}+{a}_{7, 1}\\,y\\,{x}^{7}+{a}_{6, 2}\\,{y}^{2}\\,{x}^{6}+{a}_{5, 3}\\,{y}^{3}\\,{x}^{5}+{a}_{4, 4}\\,{y}^{4}\\,{x}^{4}+{a}_{3, 5}\\,{y}^{5}\\,{x}^{3}+{a}_{2, 6}\\,{y}^{6}\\,{x}^{2}+{a}_{1, 7}\\,{y}^{7}\\,x+{a}_{0, 8}\\,{y}^{8}, {a}_{9, 0}\\,{x}^{9}+{a}_{8, 1}\\,y\\,{x}^{8}+{a}_{7, 2}\\,{y}^{2}\\,{x}^{7}+{a}_{6, 3}\\,{y}^{3}\\,{x}^{6}+{a}_{5, 4}\\,{y}^{4}\\,{x}^{5}+{a}_{4, 5}\\,{y}^{5}\\,{x}^{4}+{a}_{3, 6}\\,{y}^{6}\\,{x}^{3}+{a}_{2, 7}\\,{y}^{7}\\,{x}^{2}+{a}_{1, 8}\\,{y}^{8}\\,x+{a}_{0, 9}\\,{y}^{9}, ...\\right]\n",
       "} \\\\[0.9ex] {\\color{blue} \\scriptsize \\text{Stream(SparseMultivariatePolynomial(Expression(Integer),OrderedVariableList([x,y])))}} \\\\\n",
       "$$"
      ]
     },
     "metadata": {},
     "output_type": "display_data"
    }
   ],
   "source": [
    "ast1: Stream P := map(fp, st1)"
   ]
  },
  {
   "cell_type": "code",
   "execution_count": 18,
   "metadata": {
    "scrolled": true
   },
   "outputs": [
    {
     "data": {
      "text/latex": [
       "\\(\\def\\sp{^}\\def\\sb{_}\\def\\leqno(#1){}\\)\\(\\def\\erf\\{\\mathrm{erf}}\\def\\sinh{\\mathrm{sinh}}\\)\\(\\def\\zag#1#2{{{ \\left.{#1}\\right|}\\over{\\left|{#2}\\right.}}}\\)\\(\\require{color}\\)$$\n",
       "{\\color{black} \\normalsize \n",
       "{a}_{0, 0}+\\left({a}_{1, 0}\\,x+{a}_{0, 1}\\,y\\right)+\\left({a}_{2, 0}\\,{x}^{2}+{a}_{1, 1}\\,y\\,x+{a}_{0, 2}\\,{y}^{2}\\right)+\\left({a}_{3, 0}\\,{x}^{3}+{a}_{2, 1}\\,y\\,{x}^{2}+{a}_{1, 2}\\,{y}^{2}\\,x+{a}_{0, 3}\\,{y}^{3}\\right)+\\left({a}_{4, 0}\\,{x}^{4}+{a}_{3, 1}\\,y\\,{x}^{3}+{a}_{2, 2}\\,{y}^{2}\\,{x}^{2}+{a}_{1, 3}\\,{y}^{3}\\,x+{a}_{0, 4}\\,{y}^{4}\\right)+\\left({a}_{5, 0}\\,{x}^{5}+{a}_{4, 1}\\,y\\,{x}^{4}+{a}_{3, 2}\\,{y}^{2}\\,{x}^{3}+{a}_{2, 3}\\,{y}^{3}\\,{x}^{2}+{a}_{1, 4}\\,{y}^{4}\\,x+{a}_{0, 5}\\,{y}^{5}\\right)+\\left({a}_{6, 0}\\,{x}^{6}+{a}_{5, 1}\\,y\\,{x}^{5}+{a}_{4, 2}\\,{y}^{2}\\,{x}^{4}+{a}_{3, 3}\\,{y}^{3}\\,{x}^{3}+{a}_{2, 4}\\,{y}^{4}\\,{x}^{2}+{a}_{1, 5}\\,{y}^{5}\\,x+{a}_{0, 6}\\,{y}^{6}\\right)+\\left({a}_{7, 0}\\,{x}^{7}+{a}_{6, 1}\\,y\\,{x}^{6}+{a}_{5, 2}\\,{y}^{2}\\,{x}^{5}+{a}_{4, 3}\\,{y}^{3}\\,{x}^{4}+{a}_{3, 4}\\,{y}^{4}\\,{x}^{3}+{a}_{2, 5}\\,{y}^{5}\\,{x}^{2}+{a}_{1, 6}\\,{y}^{6}\\,x+{a}_{0, 7}\\,{y}^{7}\\right)+\\left({a}_{8, 0}\\,{x}^{8}+{a}_{7, 1}\\,y\\,{x}^{7}+{a}_{6, 2}\\,{y}^{2}\\,{x}^{6}+{a}_{5, 3}\\,{y}^{3}\\,{x}^{5}+{a}_{4, 4}\\,{y}^{4}\\,{x}^{4}+{a}_{3, 5}\\,{y}^{5}\\,{x}^{3}+{a}_{2, 6}\\,{y}^{6}\\,{x}^{2}+{a}_{1, 7}\\,{y}^{7}\\,x+{a}_{0, 8}\\,{y}^{8}\\right)+\\left({a}_{9, 0}\\,{x}^{9}+{a}_{8, 1}\\,y\\,{x}^{8}+{a}_{7, 2}\\,{y}^{2}\\,{x}^{7}+{a}_{6, 3}\\,{y}^{3}\\,{x}^{6}+{a}_{5, 4}\\,{y}^{4}\\,{x}^{5}+{a}_{4, 5}\\,{y}^{5}\\,{x}^{4}+{a}_{3, 6}\\,{y}^{6}\\,{x}^{3}+{a}_{2, 7}\\,{y}^{7}\\,{x}^{2}+{a}_{1, 8}\\,{y}^{8}\\,x+{a}_{0, 9}\\,{y}^{9}\\right)+\\left({a}_{10, 0}\\,{x}^{10}+{a}_{9, 1}\\,y\\,{x}^{9}+{a}_{8, 2}\\,{y}^{2}\\,{x}^{8}+{a}_{7, 3}\\,{y}^{3}\\,{x}^{7}+{a}_{6, 4}\\,{y}^{4}\\,{x}^{6}+{a}_{5, 5}\\,{y}^{5}\\,{x}^{5}+{a}_{4, 6}\\,{y}^{6}\\,{x}^{4}+{a}_{3, 7}\\,{y}^{7}\\,{x}^{3}+{a}_{2, 8}\\,{y}^{8}\\,{x}^{2}+{a}_{1, 9}\\,{y}^{9}\\,x+{a}_{0, 10}\\,{y}^{10}\\right)+\\mathit{O}\\left(11\\right)\n",
       "} \\\\[0.9ex] {\\color{blue} \\scriptsize \\text{SparseMultivariateTaylorSeries(Expression(Integer),OrderedVariableList([x,y]),SparseMultivariatePolynomial(Expression(Integer),OrderedVariableList([x,y])))}} \\\\\n",
       "$$"
      ]
     },
     "metadata": {},
     "output_type": "display_data"
    }
   ],
   "source": [
    "a1: M := ast1 pretend M"
   ]
  },
  {
   "cell_type": "code",
   "execution_count": 19,
   "metadata": {},
   "outputs": [
    {
     "data": {
      "text/latex": [
       "\\(\\def\\sp{^}\\def\\sb{_}\\def\\leqno(#1){}\\)\\(\\def\\erf\\{\\mathrm{erf}}\\def\\sinh{\\mathrm{sinh}}\\)\\(\\def\\zag#1#2{{{ \\left.{#1}\\right|}\\over{\\left|{#2}\\right.}}}\\)\\(\\require{color}\\)$$\n",
       "{\\color{black} \\normalsize \n",
       "-{{a}_{0, 0}}+\\left(\\left(-{{a}_{1, 0}}+{a}_{0, 0}\\right)\\,x+\\left(-{{a}_{0, 1}}+{a}_{0, 0}\\right)\\,y\\right)+\\left(\\left(-{{a}_{2, 0}}+{a}_{1, 0}\\right)\\,{x}^{2}+\\left(-{{a}_{1, 1}}+{a}_{1, 0}+{a}_{0, 1}\\right)\\,y\\,x+\\left(-{{a}_{0, 2}}+{a}_{0, 1}\\right)\\,{y}^{2}\\right)+\\left(\\left(-{{a}_{3, 0}}+{a}_{2, 0}\\right)\\,{x}^{3}+\\left(-{{a}_{2, 1}}+{a}_{2, 0}+{a}_{1, 1}\\right)\\,y\\,{x}^{2}+\\left(-{{a}_{1, 2}}+{a}_{1, 1}+{a}_{0, 2}\\right)\\,{y}^{2}\\,x+\\left(-{{a}_{0, 3}}+{a}_{0, 2}\\right)\\,{y}^{3}\\right)+\\left(\\left(-{{a}_{4, 0}}+{a}_{3, 0}\\right)\\,{x}^{4}+\\left(-{{a}_{3, 1}}+{a}_{3, 0}+{a}_{2, 1}\\right)\\,y\\,{x}^{3}+\\left(-{{a}_{2, 2}}+{a}_{2, 1}+{a}_{1, 2}\\right)\\,{y}^{2}\\,{x}^{2}+\\left(-{{a}_{1, 3}}+{a}_{1, 2}+{a}_{0, 3}\\right)\\,{y}^{3}\\,x+\\left(-{{a}_{0, 4}}+{a}_{0, 3}\\right)\\,{y}^{4}\\right)+\\left(\\left(-{{a}_{5, 0}}+{a}_{4, 0}\\right)\\,{x}^{5}+\\left(-{{a}_{4, 1}}+{a}_{4, 0}+{a}_{3, 1}\\right)\\,y\\,{x}^{4}+\\left(-{{a}_{3, 2}}+{a}_{3, 1}+{a}_{2, 2}\\right)\\,{y}^{2}\\,{x}^{3}+\\left(-{{a}_{2, 3}}+{a}_{2, 2}+{a}_{1, 3}\\right)\\,{y}^{3}\\,{x}^{2}+\\left(-{{a}_{1, 4}}+{a}_{1, 3}+{a}_{0, 4}\\right)\\,{y}^{4}\\,x+\\left(-{{a}_{0, 5}}+{a}_{0, 4}\\right)\\,{y}^{5}\\right)+\\left(\\left(-{{a}_{6, 0}}+{a}_{5, 0}\\right)\\,{x}^{6}+\\left(-{{a}_{5, 1}}+{a}_{5, 0}+{a}_{4, 1}\\right)\\,y\\,{x}^{5}+\\left(-{{a}_{4, 2}}+{a}_{4, 1}+{a}_{3, 2}\\right)\\,{y}^{2}\\,{x}^{4}+\\left(-{{a}_{3, 3}}+{a}_{3, 2}+{a}_{2, 3}\\right)\\,{y}^{3}\\,{x}^{3}+\\left(-{{a}_{2, 4}}+{a}_{2, 3}+{a}_{1, 4}\\right)\\,{y}^{4}\\,{x}^{2}+\\left(-{{a}_{1, 5}}+{a}_{1, 4}+{a}_{0, 5}\\right)\\,{y}^{5}\\,x+\\left(-{{a}_{0, 6}}+{a}_{0, 5}\\right)\\,{y}^{6}\\right)+\\left(\\left(-{{a}_{7, 0}}+{a}_{6, 0}\\right)\\,{x}^{7}+\\left(-{{a}_{6, 1}}+{a}_{6, 0}+{a}_{5, 1}\\right)\\,y\\,{x}^{6}+\\left(-{{a}_{5, 2}}+{a}_{5, 1}+{a}_{4, 2}\\right)\\,{y}^{2}\\,{x}^{5}+\\left(-{{a}_{4, 3}}+{a}_{4, 2}+{a}_{3, 3}\\right)\\,{y}^{3}\\,{x}^{4}+\\left(-{{a}_{3, 4}}+{a}_{3, 3}+{a}_{2, 4}\\right)\\,{y}^{4}\\,{x}^{3}+\\left(-{{a}_{2, 5}}+{a}_{2, 4}+{a}_{1, 5}\\right)\\,{y}^{5}\\,{x}^{2}+\\left(-{{a}_{1, 6}}+{a}_{1, 5}+{a}_{0, 6}\\right)\\,{y}^{6}\\,x+\\left(-{{a}_{0, 7}}+{a}_{0, 6}\\right)\\,{y}^{7}\\right)+\\left(\\left(-{{a}_{8, 0}}+{a}_{7, 0}\\right)\\,{x}^{8}+\\left(-{{a}_{7, 1}}+{a}_{7, 0}+{a}_{6, 1}\\right)\\,y\\,{x}^{7}+\\left(-{{a}_{6, 2}}+{a}_{6, 1}+{a}_{5, 2}\\right)\\,{y}^{2}\\,{x}^{6}+\\left(-{{a}_{5, 3}}+{a}_{5, 2}+{a}_{4, 3}\\right)\\,{y}^{3}\\,{x}^{5}+\\left(-{{a}_{4, 4}}+{a}_{4, 3}+{a}_{3, 4}\\right)\\,{y}^{4}\\,{x}^{4}+\\left(-{{a}_{3, 5}}+{a}_{3, 4}+{a}_{2, 5}\\right)\\,{y}^{5}\\,{x}^{3}+\\left(-{{a}_{2, 6}}+{a}_{2, 5}+{a}_{1, 6}\\right)\\,{y}^{6}\\,{x}^{2}+\\left(-{{a}_{1, 7}}+{a}_{1, 6}+{a}_{0, 7}\\right)\\,{y}^{7}\\,x+\\left(-{{a}_{0, 8}}+{a}_{0, 7}\\right)\\,{y}^{8}\\right)+\\left(\\left(-{{a}_{9, 0}}+{a}_{8, 0}\\right)\\,{x}^{9}+\\left(-{{a}_{8, 1}}+{a}_{8, 0}+{a}_{7, 1}\\right)\\,y\\,{x}^{8}+\\left(-{{a}_{7, 2}}+{a}_{7, 1}+{a}_{6, 2}\\right)\\,{y}^{2}\\,{x}^{7}+\\left(-{{a}_{6, 3}}+{a}_{6, 2}+{a}_{5, 3}\\right)\\,{y}^{3}\\,{x}^{6}+\\left(-{{a}_{5, 4}}+{a}_{5, 3}+{a}_{4, 4}\\right)\\,{y}^{4}\\,{x}^{5}+\\left(-{{a}_{4, 5}}+{a}_{4, 4}+{a}_{3, 5}\\right)\\,{y}^{5}\\,{x}^{4}+\\left(-{{a}_{3, 6}}+{a}_{3, 5}+{a}_{2, 6}\\right)\\,{y}^{6}\\,{x}^{3}+\\left(-{{a}_{2, 7}}+{a}_{2, 6}+{a}_{1, 7}\\right)\\,{y}^{7}\\,{x}^{2}+\\left(-{{a}_{1, 8}}+{a}_{1, 7}+{a}_{0, 8}\\right)\\,{y}^{8}\\,x+\\left(-{{a}_{0, 9}}+{a}_{0, 8}\\right)\\,{y}^{9}\\right)+\\left(\\left(-{{a}_{10, 0}}+{a}_{9, 0}\\right)\\,{x}^{10}+\\left(-{{a}_{9, 1}}+{a}_{9, 0}+{a}_{8, 1}\\right)\\,y\\,{x}^{9}+\\left(-{{a}_{8, 2}}+{a}_{8, 1}+{a}_{7, 2}\\right)\\,{y}^{2}\\,{x}^{8}+\\left(-{{a}_{7, 3}}+{a}_{7, 2}+{a}_{6, 3}\\right)\\,{y}^{3}\\,{x}^{7}+\\left(-{{a}_{6, 4}}+{a}_{6, 3}+{a}_{5, 4}\\right)\\,{y}^{4}\\,{x}^{6}+\\left(-{{a}_{5, 5}}+{a}_{5, 4}+{a}_{4, 5}\\right)\\,{y}^{5}\\,{x}^{5}+\\left(-{{a}_{4, 6}}+{a}_{4, 5}+{a}_{3, 6}\\right)\\,{y}^{6}\\,{x}^{4}+\\left(-{{a}_{3, 7}}+{a}_{3, 6}+{a}_{2, 7}\\right)\\,{y}^{7}\\,{x}^{3}+\\left(-{{a}_{2, 8}}+{a}_{2, 7}+{a}_{1, 8}\\right)\\,{y}^{8}\\,{x}^{2}+\\left(-{{a}_{1, 9}}+{a}_{1, 8}+{a}_{0, 9}\\right)\\,{y}^{9}\\,x+\\left(-{{a}_{0, 10}}+{a}_{0, 9}\\right)\\,{y}^{10}\\right)+\\mathit{O}\\left(11\\right)\n",
       "} \\\\[0.9ex] {\\color{blue} \\scriptsize \\text{SparseMultivariateTaylorSeries(Expression(Integer),OrderedVariableList([x,y]),SparseMultivariatePolynomial(Expression(Integer),OrderedVariableList([x,y])))}} \\\\\n",
       "$$"
      ]
     },
     "metadata": {},
     "output_type": "display_data"
    }
   ],
   "source": [
    "t:=(X+Y-1)*a1"
   ]
  },
  {
   "cell_type": "code",
   "execution_count": 20,
   "metadata": {},
   "outputs": [
    {
     "data": {
      "text/latex": [
       "\\(\\def\\sp{^}\\def\\sb{_}\\def\\leqno(#1){}\\)\\(\\def\\erf\\{\\mathrm{erf}}\\def\\sinh{\\mathrm{sinh}}\\)\\(\\def\\zag#1#2{{{ \\left.{#1}\\right|}\\over{\\left|{#2}\\right.}}}\\)\\(\\require{color}\\)$$\n",
       "{\\color{black} \\normalsize \n",
       "\\left(-{{a}_{3, 0}}+{a}_{2, 0}\\right)\\,{x}^{3}+\\left(-{{a}_{2, 1}}+{a}_{2, 0}+{a}_{1, 1}\\right)\\,y\\,{x}^{2}+\\left(-{{a}_{1, 2}}+{a}_{1, 1}+{a}_{0, 2}\\right)\\,{y}^{2}\\,x+\\left(-{{a}_{0, 3}}+{a}_{0, 2}\\right)\\,{y}^{3}\n",
       "} \\\\[0.9ex] {\\color{blue} \\scriptsize \\text{SparseMultivariatePolynomial(Expression(Integer),OrderedVariableList([x,y]))}} \\\\\n",
       "$$"
      ]
     },
     "metadata": {},
     "output_type": "display_data"
    }
   ],
   "source": [
    "coefficient(t,3)"
   ]
  },
  {
   "cell_type": "code",
   "execution_count": 21,
   "metadata": {},
   "outputs": [
    {
     "data": {
      "text/latex": [
       "\\(\\def\\sp{^}\\def\\sb{_}\\def\\leqno(#1){}\\)\\(\\def\\erf\\{\\mathrm{erf}}\\def\\sinh{\\mathrm{sinh}}\\)\\(\\def\\zag#1#2{{{ \\left.{#1}\\right|}\\over{\\left|{#2}\\right.}}}\\)\\(\\require{color}\\)$$\n",
       "{\\color{black} \\normalsize \n",
       "\\left[-{{a}_{0, 0}}, -{{a}_{1, 0}}+{a}_{0, 0}, -{{a}_{0, 1}}+{a}_{0, 0}, -{{a}_{2, 0}}+{a}_{1, 0}, -{{a}_{1, 1}}+{a}_{1, 0}+{a}_{0, 1}, -{{a}_{0, 2}}+{a}_{0, 1}, -{{a}_{3, 0}}+{a}_{2, 0}, -{{a}_{2, 1}}+{a}_{2, 0}+{a}_{1, 1}, -{{a}_{1, 2}}+{a}_{1, 1}+{a}_{0, 2}, -{{a}_{0, 3}}+{a}_{0, 2}, -{{a}_{4, 0}}+{a}_{3, 0}, -{{a}_{3, 1}}+{a}_{3, 0}+{a}_{2, 1}, -{{a}_{2, 2}}+{a}_{2, 1}+{a}_{1, 2}, -{{a}_{1, 3}}+{a}_{1, 2}+{a}_{0, 3}, -{{a}_{0, 4}}+{a}_{0, 3}\\right]\n",
       "} \\\\[0.9ex] {\\color{blue} \\scriptsize \\text{List(Expression(Integer))}} \\\\\n",
       "$$"
      ]
     },
     "metadata": {},
     "output_type": "display_data"
    }
   ],
   "source": [
    "c := concat [coefficients coefficient(t, n) for n in 0..4]"
   ]
  },
  {
   "cell_type": "code",
   "execution_count": 22,
   "metadata": {},
   "outputs": [
    {
     "data": {
      "text/latex": [
       "\\(\\def\\sp{^}\\def\\sb{_}\\def\\leqno(#1){}\\)\\(\\def\\erf\\{\\mathrm{erf}}\\def\\sinh{\\mathrm{sinh}}\\)\\(\\def\\zag#1#2{{{ \\left.{#1}\\right|}\\over{\\left|{#2}\\right.}}}\\)\\(\\require{color}\\)$$\n",
       "{\\color{black} \\normalsize \n",
       "\\left[{a}_{0, 0}\\right]\n",
       "} \\\\[0.9ex] {\\color{blue} \\scriptsize \\text{List(Symbol)}} \\\\\n",
       "$$"
      ]
     },
     "metadata": {},
     "output_type": "display_data"
    }
   ],
   "source": [
    "variables first c"
   ]
  },
  {
   "cell_type": "code",
   "execution_count": 23,
   "metadata": {},
   "outputs": [
    {
     "data": {
      "text/latex": [
       "\\(\\def\\sp{^}\\def\\sb{_}\\def\\leqno(#1){}\\)\\(\\def\\erf\\{\\mathrm{erf}}\\def\\sinh{\\mathrm{sinh}}\\)\\(\\def\\zag#1#2{{{ \\left.{#1}\\right|}\\over{\\left|{#2}\\right.}}}\\)\\(\\require{color}\\)$$\n",
       "{\\color{black} \\normalsize \n",
       "\\left[{a}_{0, 0}, {a}_{0, 0}, {a}_{1, 0}, {a}_{0, 0}, {a}_{0, 1}, {a}_{1, 0}, {a}_{2, 0}, {a}_{0, 1}, {a}_{1, 0}, {a}_{1, 1}, {a}_{0, 1}, {a}_{0, 2}, {a}_{2, 0}, {a}_{3, 0}, {a}_{1, 1}, {a}_{2, 0}, {a}_{2, 1}, {a}_{0, 2}, {a}_{1, 1}, {a}_{1, 2}, {a}_{0, 2}, {a}_{0, 3}, {a}_{3, 0}, {a}_{4, 0}, {a}_{2, 1}, {a}_{3, 0}, {a}_{3, 1}, {a}_{1, 2}, {a}_{2, 1}, {a}_{2, 2}, {a}_{0, 3}, {a}_{1, 2}, {a}_{1, 3}, {a}_{0, 3}, {a}_{0, 4}\\right]\n",
       "} \\\\[0.9ex] {\\color{blue} \\scriptsize \\text{List(Symbol)}} \\\\\n",
       "$$"
      ]
     },
     "metadata": {},
     "output_type": "display_data"
    }
   ],
   "source": [
    "vars: List Symbol := concat [variables z for z in c]"
   ]
  },
  {
   "cell_type": "code",
   "execution_count": 24,
   "metadata": {},
   "outputs": [
    {
     "data": {
      "text/latex": [
       "\\(\\def\\sp{^}\\def\\sb{_}\\def\\leqno(#1){}\\)\\(\\def\\erf\\{\\mathrm{erf}}\\def\\sinh{\\mathrm{sinh}}\\)\\(\\def\\zag#1#2{{{ \\left.{#1}\\right|}\\over{\\left|{#2}\\right.}}}\\)\\(\\require{color}\\)$$\n",
       "{\\color{black} \\normalsize \n",
       "\\left[{a}_{0, 0}, {a}_{0, 1}, {a}_{0, 2}, {a}_{0, 3}, {a}_{0, 4}, {a}_{1, 0}, {a}_{1, 1}, {a}_{1, 2}, {a}_{1, 3}, {a}_{2, 0}, {a}_{2, 1}, {a}_{2, 2}, {a}_{3, 0}, {a}_{3, 1}, {a}_{4, 0}\\right]\n",
       "} \\\\[0.9ex] {\\color{blue} \\scriptsize \\text{List(Symbol)}} \\\\\n",
       "$$"
      ]
     },
     "metadata": {},
     "output_type": "display_data"
    }
   ],
   "source": [
    "v: List Symbol := [u for u in members set vars]"
   ]
  },
  {
   "cell_type": "code",
   "execution_count": 25,
   "metadata": {
    "scrolled": true
   },
   "outputs": [
    {
     "data": {
      "text/latex": [
       "\\(\\def\\sp{^}\\def\\sb{_}\\def\\leqno(#1){}\\)\\(\\def\\erf\\{\\mathrm{erf}}\\def\\sinh{\\mathrm{sinh}}\\)\\(\\def\\zag#1#2{{{ \\left.{#1}\\right|}\\over{\\left|{#2}\\right.}}}\\)\\(\\require{color}\\)$$\n",
       "{\\color{black} \\normalsize \n",
       "\\left[{a}_{0, 0}-{1}, -{{a}_{1, 0}}+{a}_{0, 0}, -{{a}_{0, 1}}+{a}_{0, 0}, -{{a}_{2, 0}}+{a}_{1, 0}, -{{a}_{1, 1}}+{a}_{1, 0}+{a}_{0, 1}, -{{a}_{0, 2}}+{a}_{0, 1}, -{{a}_{3, 0}}+{a}_{2, 0}, -{{a}_{2, 1}}+{a}_{2, 0}+{a}_{1, 1}, -{{a}_{1, 2}}+{a}_{1, 1}+{a}_{0, 2}, -{{a}_{0, 3}}+{a}_{0, 2}, -{{a}_{4, 0}}+{a}_{3, 0}, -{{a}_{3, 1}}+{a}_{3, 0}+{a}_{2, 1}, -{{a}_{2, 2}}+{a}_{2, 1}+{a}_{1, 2}, -{{a}_{1, 3}}+{a}_{1, 2}+{a}_{0, 3}, -{{a}_{0, 4}}+{a}_{0, 3}\\right]\n",
       "} \\\\[0.9ex] {\\color{blue} \\scriptsize \\text{List(Expression(Integer))}} \\\\\n",
       "$$"
      ]
     },
     "metadata": {},
     "output_type": "display_data"
    }
   ],
   "source": [
    "es:=cons(a[0,0]-1, rest c)"
   ]
  },
  {
   "cell_type": "code",
   "execution_count": 26,
   "metadata": {},
   "outputs": [
    {
     "data": {
      "text/latex": [
       "\\(\\def\\sp{^}\\def\\sb{_}\\def\\leqno(#1){}\\)\\(\\def\\erf\\{\\mathrm{erf}}\\def\\sinh{\\mathrm{sinh}}\\)\\(\\def\\zag#1#2{{{ \\left.{#1}\\right|}\\over{\\left|{#2}\\right.}}}\\)\\(\\require{color}\\)$$\n",
       "{\\color{black} \\normalsize \n",
       "\\left[\\left[{a}_{0, 0}=1, {a}_{0, 1}=1, {a}_{0, 2}=1, {a}_{0, 3}=1, {a}_{0, 4}=1, {a}_{1, 0}=1, {a}_{1, 1}=2, {a}_{1, 2}=3, {a}_{1, 3}=4, {a}_{2, 0}=1, {a}_{2, 1}=3, {a}_{2, 2}=6, {a}_{3, 0}=1, {a}_{3, 1}=4, {a}_{4, 0}=1\\right]\\right]\n",
       "} \\\\[0.9ex] {\\color{blue} \\scriptsize \\text{List(List(Equation(Expression(Integer))))}} \\\\\n",
       "$$"
      ]
     },
     "metadata": {},
     "output_type": "display_data"
    }
   ],
   "source": [
    "result:=solve([e=0 for e in es], v)"
   ]
  },
  {
   "cell_type": "code",
   "execution_count": null,
   "metadata": {},
   "outputs": [],
   "source": []
  },
  {
   "cell_type": "code",
   "execution_count": null,
   "metadata": {},
   "outputs": [],
   "source": []
  }
 ],
 "metadata": {
  "kernelspec": {
   "display_name": "SPAD",
   "language": "spad",
   "name": "spadkernel"
  },
  "language_info": {
   "file_extension": ".input",
   "mimetype": "text/plain",
   "name": "SPAD"
  }
 },
 "nbformat": 4,
 "nbformat_minor": 1
}
